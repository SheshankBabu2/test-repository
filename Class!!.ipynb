{
 "cells": [
  {
   "cell_type": "code",
   "execution_count": 5,
   "id": "6760e84e",
   "metadata": {},
   "outputs": [
    {
     "data": {
      "text/plain": [
       "0"
      ]
     },
     "execution_count": 5,
     "metadata": {},
     "output_type": "execute_result"
    }
   ],
   "source": [
    "True-True"
   ]
  },
  {
   "cell_type": "code",
   "execution_count": 6,
   "id": "a47a3a4e",
   "metadata": {},
   "outputs": [
    {
     "data": {
      "text/plain": [
       "1"
      ]
     },
     "execution_count": 6,
     "metadata": {},
     "output_type": "execute_result"
    }
   ],
   "source": [
    "True-False"
   ]
  },
  {
   "cell_type": "code",
   "execution_count": 7,
   "id": "abe76a27",
   "metadata": {},
   "outputs": [
    {
     "data": {
      "text/plain": [
       "-1"
      ]
     },
     "execution_count": 7,
     "metadata": {},
     "output_type": "execute_result"
    }
   ],
   "source": [
    "False-True"
   ]
  },
  {
   "cell_type": "code",
   "execution_count": 8,
   "id": "fd294a4d",
   "metadata": {},
   "outputs": [
    {
     "data": {
      "text/plain": [
       "0.0"
      ]
     },
     "execution_count": 8,
     "metadata": {},
     "output_type": "execute_result"
    }
   ],
   "source": [
    "False/True"
   ]
  },
  {
   "cell_type": "code",
   "execution_count": 9,
   "id": "030e1d7d",
   "metadata": {},
   "outputs": [
    {
     "data": {
      "text/plain": [
       "0"
      ]
     },
     "execution_count": 9,
     "metadata": {},
     "output_type": "execute_result"
    }
   ],
   "source": [
    "False-False"
   ]
  },
  {
   "cell_type": "code",
   "execution_count": 10,
   "id": "27d5b743",
   "metadata": {},
   "outputs": [
    {
     "ename": "ZeroDivisionError",
     "evalue": "division by zero",
     "output_type": "error",
     "traceback": [
      "\u001b[1;31m---------------------------------------------------------------------------\u001b[0m",
      "\u001b[1;31mZeroDivisionError\u001b[0m                         Traceback (most recent call last)",
      "Input \u001b[1;32mIn [10]\u001b[0m, in \u001b[0;36m<cell line: 1>\u001b[1;34m()\u001b[0m\n\u001b[1;32m----> 1\u001b[0m \u001b[38;5;28;43;01mTrue\u001b[39;49;00m\u001b[38;5;241;43m/\u001b[39;49m\u001b[38;5;28;43;01mFalse\u001b[39;49;00m\n",
      "\u001b[1;31mZeroDivisionError\u001b[0m: division by zero"
     ]
    }
   ],
   "source": [
    "True/False\n"
   ]
  },
  {
   "cell_type": "code",
   "execution_count": 11,
   "id": "d7a3acc2",
   "metadata": {},
   "outputs": [
    {
     "ename": "NameError",
     "evalue": "name 'true' is not defined",
     "output_type": "error",
     "traceback": [
      "\u001b[1;31m---------------------------------------------------------------------------\u001b[0m",
      "\u001b[1;31mNameError\u001b[0m                                 Traceback (most recent call last)",
      "Input \u001b[1;32mIn [11]\u001b[0m, in \u001b[0;36m<cell line: 1>\u001b[1;34m()\u001b[0m\n\u001b[1;32m----> 1\u001b[0m \u001b[43mtrue\u001b[49m\u001b[38;5;241m-\u001b[39mfalse\n",
      "\u001b[1;31mNameError\u001b[0m: name 'true' is not defined"
     ]
    }
   ],
   "source": [
    "true-false\n"
   ]
  },
  {
   "cell_type": "code",
   "execution_count": 12,
   "id": "352932f7",
   "metadata": {},
   "outputs": [],
   "source": [
    "a=6"
   ]
  },
  {
   "cell_type": "code",
   "execution_count": 13,
   "id": "130c9ff3",
   "metadata": {},
   "outputs": [
    {
     "data": {
      "text/plain": [
       "6"
      ]
     },
     "execution_count": 13,
     "metadata": {},
     "output_type": "execute_result"
    }
   ],
   "source": [
    "a\n"
   ]
  },
  {
   "cell_type": "code",
   "execution_count": 14,
   "id": "49735c2b",
   "metadata": {},
   "outputs": [
    {
     "data": {
      "text/plain": [
       "int"
      ]
     },
     "execution_count": 14,
     "metadata": {},
     "output_type": "execute_result"
    }
   ],
   "source": [
    "type(a)"
   ]
  },
  {
   "cell_type": "code",
   "execution_count": 15,
   "id": "86437677",
   "metadata": {},
   "outputs": [],
   "source": [
    "b=\"sheesh\""
   ]
  },
  {
   "cell_type": "code",
   "execution_count": 16,
   "id": "591dfc41",
   "metadata": {},
   "outputs": [
    {
     "data": {
      "text/plain": [
       "str"
      ]
     },
     "execution_count": 16,
     "metadata": {},
     "output_type": "execute_result"
    }
   ],
   "source": [
    "type(b)"
   ]
  },
  {
   "cell_type": "code",
   "execution_count": 17,
   "id": "45e0b417",
   "metadata": {},
   "outputs": [],
   "source": [
    "c=1.34"
   ]
  },
  {
   "cell_type": "code",
   "execution_count": 18,
   "id": "5b0751d6",
   "metadata": {},
   "outputs": [
    {
     "data": {
      "text/plain": [
       "float"
      ]
     },
     "execution_count": 18,
     "metadata": {},
     "output_type": "execute_result"
    }
   ],
   "source": [
    "type(c)"
   ]
  },
  {
   "cell_type": "code",
   "execution_count": 19,
   "id": "e7244159",
   "metadata": {},
   "outputs": [],
   "source": [
    "d=10238109213"
   ]
  },
  {
   "cell_type": "code",
   "execution_count": 20,
   "id": "01ffe784",
   "metadata": {},
   "outputs": [
    {
     "data": {
      "text/plain": [
       "int"
      ]
     },
     "execution_count": 20,
     "metadata": {},
     "output_type": "execute_result"
    }
   ],
   "source": [
    "type(d)"
   ]
  },
  {
   "cell_type": "code",
   "execution_count": 21,
   "id": "d402101f",
   "metadata": {},
   "outputs": [
    {
     "ename": "SyntaxError",
     "evalue": "invalid syntax (3523261890.py, line 1)",
     "output_type": "error",
     "traceback": [
      "\u001b[1;36m  Input \u001b[1;32mIn [21]\u001b[1;36m\u001b[0m\n\u001b[1;33m    if : a>b\u001b[0m\n\u001b[1;37m       ^\u001b[0m\n\u001b[1;31mSyntaxError\u001b[0m\u001b[1;31m:\u001b[0m invalid syntax\n"
     ]
    }
   ],
   "source": [
    "if : a>b\n",
    "    print(\"sheesh\")"
   ]
  },
  {
   "cell_type": "code",
   "execution_count": 22,
   "id": "1ee13585",
   "metadata": {},
   "outputs": [
    {
     "ename": "TypeError",
     "evalue": "'<' not supported between instances of 'int' and 'str'",
     "output_type": "error",
     "traceback": [
      "\u001b[1;31m---------------------------------------------------------------------------\u001b[0m",
      "\u001b[1;31mTypeError\u001b[0m                                 Traceback (most recent call last)",
      "Input \u001b[1;32mIn [22]\u001b[0m, in \u001b[0;36m<cell line: 1>\u001b[1;34m()\u001b[0m\n\u001b[1;32m----> 1\u001b[0m \u001b[38;5;28;01mif\u001b[39;00m \u001b[43ma\u001b[49m\u001b[38;5;241;43m<\u001b[39;49m\u001b[43mb\u001b[49m :\n\u001b[0;32m      2\u001b[0m     \u001b[38;5;28mprint\u001b[39m(\u001b[38;5;124m\"\u001b[39m\u001b[38;5;124mshesh\u001b[39m\u001b[38;5;124m\"\u001b[39m)\n",
      "\u001b[1;31mTypeError\u001b[0m: '<' not supported between instances of 'int' and 'str'"
     ]
    }
   ],
   "source": [
    "if a<b :\n",
    "    print(\"shesh\")"
   ]
  },
  {
   "cell_type": "code",
   "execution_count": 23,
   "id": "97b750c8",
   "metadata": {},
   "outputs": [
    {
     "name": "stdout",
     "output_type": "stream",
     "text": [
      "shesh\n"
     ]
    }
   ],
   "source": [
    "if a<d :\n",
    "    print(\"shesh\")"
   ]
  },
  {
   "cell_type": "code",
   "execution_count": 24,
   "id": "aa82e623",
   "metadata": {},
   "outputs": [
    {
     "ename": "SyntaxError",
     "evalue": "invalid syntax (1210362488.py, line 1)",
     "output_type": "error",
     "traceback": [
      "\u001b[1;36m  Input \u001b[1;32mIn [24]\u001b[1;36m\u001b[0m\n\u001b[1;33m    n= 6+5i\u001b[0m\n\u001b[1;37m          ^\u001b[0m\n\u001b[1;31mSyntaxError\u001b[0m\u001b[1;31m:\u001b[0m invalid syntax\n"
     ]
    }
   ],
   "source": [
    "n= 6+5i"
   ]
  },
  {
   "cell_type": "code",
   "execution_count": 25,
   "id": "c0fe9a11",
   "metadata": {},
   "outputs": [],
   "source": [
    "n= 6+5j"
   ]
  },
  {
   "cell_type": "code",
   "execution_count": 26,
   "id": "d9a98abd",
   "metadata": {},
   "outputs": [
    {
     "data": {
      "text/plain": [
       "complex"
      ]
     },
     "execution_count": 26,
     "metadata": {},
     "output_type": "execute_result"
    }
   ],
   "source": [
    "type(n)"
   ]
  },
  {
   "cell_type": "code",
   "execution_count": 27,
   "id": "2c5bf334",
   "metadata": {},
   "outputs": [
    {
     "data": {
      "text/plain": [
       "(12+10j)"
      ]
     },
     "execution_count": 27,
     "metadata": {},
     "output_type": "execute_result"
    }
   ],
   "source": [
    "n+n\n"
   ]
  },
  {
   "cell_type": "code",
   "execution_count": 31,
   "id": "44004e02",
   "metadata": {},
   "outputs": [],
   "source": [
    "e = [\"shehank\",2,2.8,\"broken\"]"
   ]
  },
  {
   "cell_type": "code",
   "execution_count": 33,
   "id": "6c7d34a1",
   "metadata": {},
   "outputs": [
    {
     "data": {
      "text/plain": [
       "['shehank', 2, 2.8, 'broken']"
      ]
     },
     "execution_count": 33,
     "metadata": {},
     "output_type": "execute_result"
    }
   ],
   "source": [
    "e"
   ]
  },
  {
   "cell_type": "code",
   "execution_count": 36,
   "id": "8c8bf003",
   "metadata": {},
   "outputs": [
    {
     "data": {
      "text/plain": [
       "list"
      ]
     },
     "execution_count": 36,
     "metadata": {},
     "output_type": "execute_result"
    }
   ],
   "source": [
    "type(e)"
   ]
  },
  {
   "cell_type": "markdown",
   "id": "12158e5f",
   "metadata": {},
   "source": [
    "tuple"
   ]
  },
  {
   "cell_type": "code",
   "execution_count": 37,
   "id": "10b19f1c",
   "metadata": {},
   "outputs": [],
   "source": [
    "a = (\"Sheshank\",32,34.2,\"asdawd\")"
   ]
  },
  {
   "cell_type": "code",
   "execution_count": 38,
   "id": "d5e42295",
   "metadata": {},
   "outputs": [
    {
     "data": {
      "text/plain": [
       "tuple"
      ]
     },
     "execution_count": 38,
     "metadata": {},
     "output_type": "execute_result"
    }
   ],
   "source": [
    "type(a)"
   ]
  },
  {
   "cell_type": "markdown",
   "id": "765261b8",
   "metadata": {},
   "source": [
    "[] and () have differnce of mutible and immutible "
   ]
  },
  {
   "cell_type": "code",
   "execution_count": 39,
   "id": "8f8802a7",
   "metadata": {},
   "outputs": [],
   "source": [
    "dict = {\"name\": \"Sheshank\",\"College\": \"KLH\",\"Age\": 18}"
   ]
  },
  {
   "cell_type": "code",
   "execution_count": 40,
   "id": "ae40d28a",
   "metadata": {},
   "outputs": [
    {
     "data": {
      "text/plain": [
       "dict"
      ]
     },
     "execution_count": 40,
     "metadata": {},
     "output_type": "execute_result"
    }
   ],
   "source": [
    "type(dict)"
   ]
  },
  {
   "cell_type": "markdown",
   "id": "108c9f2d",
   "metadata": {},
   "source": [
    "dict is a type - \"Dictionary\""
   ]
  },
  {
   "cell_type": "code",
   "execution_count": 41,
   "id": "05c90931",
   "metadata": {},
   "outputs": [],
   "source": [
    "d = {123: \"Sheshank\",\"College\": \"KLH\",\"Age\": 18}"
   ]
  },
  {
   "cell_type": "code",
   "execution_count": 42,
   "id": "09c07225",
   "metadata": {},
   "outputs": [
    {
     "data": {
      "text/plain": [
       "dict"
      ]
     },
     "execution_count": 42,
     "metadata": {},
     "output_type": "execute_result"
    }
   ],
   "source": [
    "type(d)"
   ]
  },
  {
   "cell_type": "code",
   "execution_count": 43,
   "id": "98c0d6cf",
   "metadata": {},
   "outputs": [
    {
     "name": "stdout",
     "output_type": "stream",
     "text": [
      "{123: 'Sheshank', 'College': 'KLH', 'Age': 18}\n"
     ]
    }
   ],
   "source": [
    "print(d)"
   ]
  },
  {
   "cell_type": "code",
   "execution_count": 44,
   "id": "fbf839bc",
   "metadata": {},
   "outputs": [],
   "source": [
    "s = \"Harsha\""
   ]
  },
  {
   "cell_type": "code",
   "execution_count": 45,
   "id": "26f01b92",
   "metadata": {},
   "outputs": [
    {
     "data": {
      "text/plain": [
       "str"
      ]
     },
     "execution_count": 45,
     "metadata": {},
     "output_type": "execute_result"
    }
   ],
   "source": [
    "type(s)"
   ]
  },
  {
   "cell_type": "code",
   "execution_count": 46,
   "id": "0df31f14",
   "metadata": {},
   "outputs": [
    {
     "data": {
      "text/plain": [
       "'rsha'"
      ]
     },
     "execution_count": 46,
     "metadata": {},
     "output_type": "execute_result"
    }
   ],
   "source": [
    "s[2:6]"
   ]
  },
  {
   "cell_type": "code",
   "execution_count": 47,
   "id": "89cfe154",
   "metadata": {},
   "outputs": [],
   "source": [
    "s = \"sheesh I dont know what to say\""
   ]
  },
  {
   "cell_type": "code",
   "execution_count": 48,
   "id": "3f15bdae",
   "metadata": {},
   "outputs": [
    {
     "data": {
      "text/plain": [
       "'heesh I d'"
      ]
     },
     "execution_count": 48,
     "metadata": {},
     "output_type": "execute_result"
    }
   ],
   "source": [
    "s[1:10]"
   ]
  },
  {
   "cell_type": "code",
   "execution_count": 49,
   "id": "cd3050c4",
   "metadata": {},
   "outputs": [
    {
     "data": {
      "text/plain": [
       "'sheesh I dont '"
      ]
     },
     "execution_count": 49,
     "metadata": {},
     "output_type": "execute_result"
    }
   ],
   "source": [
    "s[0:14]"
   ]
  },
  {
   "cell_type": "code",
   "execution_count": 50,
   "id": "7657d76c",
   "metadata": {},
   "outputs": [
    {
     "data": {
      "text/plain": [
       "'sh I dont kn'"
      ]
     },
     "execution_count": 50,
     "metadata": {},
     "output_type": "execute_result"
    }
   ],
   "source": [
    "s[4:16]"
   ]
  },
  {
   "cell_type": "code",
   "execution_count": 51,
   "id": "5fa393d9",
   "metadata": {},
   "outputs": [
    {
     "ename": "SyntaxError",
     "evalue": "invalid syntax (458849843.py, line 1)",
     "output_type": "error",
     "traceback": [
      "\u001b[1;36m  Input \u001b[1;32mIn [51]\u001b[1;36m\u001b[0m\n\u001b[1;33m    s[1:4:15:19:28:30]\u001b[0m\n\u001b[1;37m            ^\u001b[0m\n\u001b[1;31mSyntaxError\u001b[0m\u001b[1;31m:\u001b[0m invalid syntax\n"
     ]
    }
   ],
   "source": [
    "s[1:4:15:19:28:30]"
   ]
  },
  {
   "cell_type": "code",
   "execution_count": 52,
   "id": "81ca02dc",
   "metadata": {},
   "outputs": [
    {
     "data": {
      "text/plain": [
       "''"
      ]
     },
     "execution_count": 52,
     "metadata": {},
     "output_type": "execute_result"
    }
   ],
   "source": [
    "s[-1:-6]"
   ]
  },
  {
   "cell_type": "code",
   "execution_count": 53,
   "id": "ae306d94",
   "metadata": {},
   "outputs": [
    {
     "data": {
      "text/plain": [
       "''"
      ]
     },
     "execution_count": 53,
     "metadata": {},
     "output_type": "execute_result"
    }
   ],
   "source": [
    "s[-1:-14]"
   ]
  },
  {
   "cell_type": "code",
   "execution_count": 54,
   "id": "f979de98",
   "metadata": {},
   "outputs": [
    {
     "data": {
      "text/plain": [
       "'d I '"
      ]
     },
     "execution_count": 54,
     "metadata": {},
     "output_type": "execute_result"
    }
   ],
   "source": [
    "s[9:5:-1]"
   ]
  },
  {
   "cell_type": "code",
   "execution_count": 55,
   "id": "f415a4cd",
   "metadata": {},
   "outputs": [],
   "source": [
    "r=\"skid\""
   ]
  },
  {
   "cell_type": "code",
   "execution_count": 56,
   "id": "3e8b9809",
   "metadata": {},
   "outputs": [
    {
     "data": {
      "text/plain": [
       "'dik'"
      ]
     },
     "execution_count": 56,
     "metadata": {},
     "output_type": "execute_result"
    }
   ],
   "source": [
    "r[3:0:-1]"
   ]
  },
  {
   "cell_type": "code",
   "execution_count": 57,
   "id": "9bb54fa5",
   "metadata": {},
   "outputs": [
    {
     "data": {
      "text/plain": [
       "'dik'"
      ]
     },
     "execution_count": 57,
     "metadata": {},
     "output_type": "execute_result"
    }
   ],
   "source": [
    "r[4:0:-1]"
   ]
  },
  {
   "cell_type": "code",
   "execution_count": 58,
   "id": "e314d871",
   "metadata": {},
   "outputs": [
    {
     "data": {
      "text/plain": [
       "''"
      ]
     },
     "execution_count": 58,
     "metadata": {},
     "output_type": "execute_result"
    }
   ],
   "source": [
    "r[4:-1:-1]"
   ]
  },
  {
   "cell_type": "code",
   "execution_count": 59,
   "id": "1d0221ed",
   "metadata": {},
   "outputs": [
    {
     "data": {
      "text/plain": [
       "'w wonk tnod I h'"
      ]
     },
     "execution_count": 59,
     "metadata": {},
     "output_type": "execute_result"
    }
   ],
   "source": [
    "s[19:4:-1]"
   ]
  },
  {
   "cell_type": "code",
   "execution_count": 60,
   "id": "3c20fb52",
   "metadata": {},
   "outputs": [
    {
     "data": {
      "text/plain": [
       "'as ot tahw wonk tnod I hs'"
      ]
     },
     "execution_count": 60,
     "metadata": {},
     "output_type": "execute_result"
    }
   ],
   "source": [
    "s[28:3:-1]"
   ]
  },
  {
   "cell_type": "code",
   "execution_count": 61,
   "id": "7b9e55f4",
   "metadata": {},
   "outputs": [
    {
     "data": {
      "text/plain": [
       "'aht'"
      ]
     },
     "execution_count": 61,
     "metadata": {},
     "output_type": "execute_result"
    }
   ],
   "source": [
    "s[28:6:-8]"
   ]
  },
  {
   "cell_type": "code",
   "execution_count": 62,
   "id": "f0b1c892",
   "metadata": {},
   "outputs": [],
   "source": [
    "n = \"We Love Food\""
   ]
  },
  {
   "cell_type": "code",
   "execution_count": 63,
   "id": "0c4937cc",
   "metadata": {},
   "outputs": [
    {
     "data": {
      "text/plain": [
       "''"
      ]
     },
     "execution_count": 63,
     "metadata": {},
     "output_type": "execute_result"
    }
   ],
   "source": [
    "n[2:9:-2]"
   ]
  },
  {
   "cell_type": "code",
   "execution_count": 64,
   "id": "63b78109",
   "metadata": {},
   "outputs": [
    {
     "data": {
      "text/plain": [
       "'o vL'"
      ]
     },
     "execution_count": 64,
     "metadata": {},
     "output_type": "execute_result"
    }
   ],
   "source": [
    "n[9:2:-2]"
   ]
  },
  {
   "cell_type": "code",
   "execution_count": 65,
   "id": "ab78d42c",
   "metadata": {},
   "outputs": [
    {
     "data": {
      "text/plain": [
       "'do vLe'"
      ]
     },
     "execution_count": 65,
     "metadata": {},
     "output_type": "execute_result"
    }
   ],
   "source": [
    "n[11:0:-2]"
   ]
  },
  {
   "cell_type": "code",
   "execution_count": 66,
   "id": "52be188d",
   "metadata": {},
   "outputs": [
    {
     "data": {
      "text/plain": [
       "'dooF evoL e'"
      ]
     },
     "execution_count": 66,
     "metadata": {},
     "output_type": "execute_result"
    }
   ],
   "source": [
    "n[11:0:-1]"
   ]
  },
  {
   "cell_type": "code",
   "execution_count": 67,
   "id": "3dfe6ed0",
   "metadata": {},
   "outputs": [
    {
     "data": {
      "text/plain": [
       "''"
      ]
     },
     "execution_count": 67,
     "metadata": {},
     "output_type": "execute_result"
    }
   ],
   "source": [
    "n[11:-1:-1]"
   ]
  },
  {
   "cell_type": "code",
   "execution_count": 68,
   "id": "c5b97000",
   "metadata": {},
   "outputs": [
    {
     "data": {
      "text/plain": [
       "'dFv '"
      ]
     },
     "execution_count": 68,
     "metadata": {},
     "output_type": "execute_result"
    }
   ],
   "source": [
    "n[11:0:-3]"
   ]
  },
  {
   "cell_type": "code",
   "execution_count": 69,
   "id": "e0c7ab2c",
   "metadata": {},
   "outputs": [
    {
     "data": {
      "text/plain": [
       "'We Love Foo'"
      ]
     },
     "execution_count": 69,
     "metadata": {},
     "output_type": "execute_result"
    }
   ],
   "source": [
    "n[0:11:1]"
   ]
  },
  {
   "cell_type": "code",
   "execution_count": 70,
   "id": "c798f1e0",
   "metadata": {},
   "outputs": [
    {
     "data": {
      "text/plain": [
       "''"
      ]
     },
     "execution_count": 70,
     "metadata": {},
     "output_type": "execute_result"
    }
   ],
   "source": [
    "n[0:11:-1]"
   ]
  },
  {
   "cell_type": "code",
   "execution_count": 71,
   "id": "86a068a9",
   "metadata": {},
   "outputs": [
    {
     "data": {
      "text/plain": [
       "'W oeFo'"
      ]
     },
     "execution_count": 71,
     "metadata": {},
     "output_type": "execute_result"
    }
   ],
   "source": [
    "n[0:11:2]"
   ]
  },
  {
   "cell_type": "code",
   "execution_count": 72,
   "id": "2a39d17d",
   "metadata": {},
   "outputs": [
    {
     "data": {
      "text/plain": [
       "'dooF evoL e'"
      ]
     },
     "execution_count": 72,
     "metadata": {},
     "output_type": "execute_result"
    }
   ],
   "source": [
    "n[11:0:-1]"
   ]
  },
  {
   "cell_type": "code",
   "execution_count": 73,
   "id": "099a7475",
   "metadata": {},
   "outputs": [
    {
     "data": {
      "text/plain": [
       "'oo'"
      ]
     },
     "execution_count": 73,
     "metadata": {},
     "output_type": "execute_result"
    }
   ],
   "source": [
    "n[-2:-4:-1]"
   ]
  },
  {
   "cell_type": "code",
   "execution_count": 1,
   "id": "f272a593",
   "metadata": {},
   "outputs": [],
   "source": [
    "sen = \"this is My First Python programming class and i am learNING python string and its function\"\n"
   ]
  },
  {
   "cell_type": "code",
   "execution_count": 2,
   "id": "d201a4f2",
   "metadata": {},
   "outputs": [
    {
     "ename": "NameError",
     "evalue": "name 's' is not defined",
     "output_type": "error",
     "traceback": [
      "\u001b[1;31m---------------------------------------------------------------------------\u001b[0m",
      "\u001b[1;31mNameError\u001b[0m                                 Traceback (most recent call last)",
      "Input \u001b[1;32mIn [2]\u001b[0m, in \u001b[0;36m<cell line: 1>\u001b[1;34m()\u001b[0m\n\u001b[1;32m----> 1\u001b[0m \u001b[43ms\u001b[49m[\u001b[38;5;241m0\u001b[39m:\u001b[38;5;241m300\u001b[39m:\u001b[38;5;241m3\u001b[39m]\n",
      "\u001b[1;31mNameError\u001b[0m: name 's' is not defined"
     ]
    }
   ],
   "source": [
    "s[0:300:3]"
   ]
  },
  {
   "cell_type": "code",
   "execution_count": 3,
   "id": "94e7993c",
   "metadata": {},
   "outputs": [
    {
     "data": {
      "text/plain": [
       "'tssyityopgmncsa alrNph rgni ni'"
      ]
     },
     "execution_count": 3,
     "metadata": {},
     "output_type": "execute_result"
    }
   ],
   "source": [
    "sen[0:300:3]"
   ]
  },
  {
   "cell_type": "code",
   "execution_count": 4,
   "id": "10ac025e",
   "metadata": {},
   "outputs": [
    {
     "data": {
      "text/plain": [
       "''"
      ]
     },
     "execution_count": 4,
     "metadata": {},
     "output_type": "execute_result"
    }
   ],
   "source": [
    "sen[300:0:3]"
   ]
  },
  {
   "cell_type": "code",
   "execution_count": 5,
   "id": "c1522fa0",
   "metadata": {},
   "outputs": [
    {
     "data": {
      "text/plain": [
       "'this is My First Python programming class and i am learNING python string and its function'"
      ]
     },
     "execution_count": 5,
     "metadata": {},
     "output_type": "execute_result"
    }
   ],
   "source": [
    "sen[:]"
   ]
  },
  {
   "cell_type": "markdown",
   "id": "2f44dc37",
   "metadata": {},
   "source": [
    "# 21-07-2022"
   ]
  },
  {
   "cell_type": "code",
   "execution_count": 3,
   "id": "8ce8491e",
   "metadata": {},
   "outputs": [],
   "source": [
    "s=\"jashwanth\""
   ]
  },
  {
   "cell_type": "code",
   "execution_count": 7,
   "id": "c4efcd4c",
   "metadata": {},
   "outputs": [
    {
     "data": {
      "text/plain": [
       "'jashwanth'"
      ]
     },
     "execution_count": 7,
     "metadata": {},
     "output_type": "execute_result"
    }
   ],
   "source": [
    "s"
   ]
  },
  {
   "cell_type": "code",
   "execution_count": 8,
   "id": "8e80f1cc",
   "metadata": {},
   "outputs": [
    {
     "data": {
      "text/plain": [
       "'jashwanth'"
      ]
     },
     "execution_count": 8,
     "metadata": {},
     "output_type": "execute_result"
    }
   ],
   "source": [
    "s"
   ]
  },
  {
   "cell_type": "code",
   "execution_count": 9,
   "id": "b38085fd",
   "metadata": {},
   "outputs": [
    {
     "ename": "TypeError",
     "evalue": "can only concatenate str (not \"int\") to str",
     "output_type": "error",
     "traceback": [
      "\u001b[1;31m---------------------------------------------------------------------------\u001b[0m",
      "\u001b[1;31mTypeError\u001b[0m                                 Traceback (most recent call last)",
      "Input \u001b[1;32mIn [9]\u001b[0m, in \u001b[0;36m<cell line: 1>\u001b[1;34m()\u001b[0m\n\u001b[1;32m----> 1\u001b[0m \u001b[43ms\u001b[49m\u001b[38;5;241;43m+\u001b[39;49m\u001b[38;5;241;43m1\u001b[39;49m\n",
      "\u001b[1;31mTypeError\u001b[0m: can only concatenate str (not \"int\") to str"
     ]
    }
   ],
   "source": [
    "s+1"
   ]
  },
  {
   "cell_type": "code",
   "execution_count": 10,
   "id": "8ac1b204",
   "metadata": {},
   "outputs": [],
   "source": [
    "s?"
   ]
  },
  {
   "cell_type": "code",
   "execution_count": 11,
   "id": "9b98048d",
   "metadata": {},
   "outputs": [
    {
     "data": {
      "text/plain": [
       "'jashwanthl'"
      ]
     },
     "execution_count": 11,
     "metadata": {},
     "output_type": "execute_result"
    }
   ],
   "source": [
    "s+\"l\""
   ]
  },
  {
   "cell_type": "code",
   "execution_count": 12,
   "id": "09b972f6",
   "metadata": {},
   "outputs": [
    {
     "data": {
      "text/plain": [
       "'jashwanth1'"
      ]
     },
     "execution_count": 12,
     "metadata": {},
     "output_type": "execute_result"
    }
   ],
   "source": [
    "s+\"1\""
   ]
  },
  {
   "cell_type": "code",
   "execution_count": 13,
   "id": "56ad99da",
   "metadata": {},
   "outputs": [
    {
     "data": {
      "text/plain": [
       "'jashwanth'"
      ]
     },
     "execution_count": 13,
     "metadata": {},
     "output_type": "execute_result"
    }
   ],
   "source": [
    "s"
   ]
  },
  {
   "cell_type": "code",
   "execution_count": 14,
   "id": "28153d8f",
   "metadata": {},
   "outputs": [
    {
     "ename": "NameError",
     "evalue": "name 'k' is not defined",
     "output_type": "error",
     "traceback": [
      "\u001b[1;31m---------------------------------------------------------------------------\u001b[0m",
      "\u001b[1;31mNameError\u001b[0m                                 Traceback (most recent call last)",
      "Input \u001b[1;32mIn [14]\u001b[0m, in \u001b[0;36m<cell line: 1>\u001b[1;34m()\u001b[0m\n\u001b[1;32m----> 1\u001b[0m s\u001b[38;5;241m+\u001b[39m\u001b[43mk\u001b[49m\n",
      "\u001b[1;31mNameError\u001b[0m: name 'k' is not defined"
     ]
    }
   ],
   "source": [
    "s+k"
   ]
  },
  {
   "cell_type": "code",
   "execution_count": 15,
   "id": "2378457a",
   "metadata": {},
   "outputs": [
    {
     "data": {
      "text/plain": [
       "'jashwanthjashwanth'"
      ]
     },
     "execution_count": 15,
     "metadata": {},
     "output_type": "execute_result"
    }
   ],
   "source": [
    "s*2"
   ]
  },
  {
   "cell_type": "code",
   "execution_count": 16,
   "id": "0b3faedd",
   "metadata": {},
   "outputs": [
    {
     "data": {
      "text/plain": [
       "'jashwanthjashwanth'"
      ]
     },
     "execution_count": 16,
     "metadata": {},
     "output_type": "execute_result"
    }
   ],
   "source": [
    "s+s"
   ]
  },
  {
   "cell_type": "code",
   "execution_count": 17,
   "id": "82f6b7ea",
   "metadata": {},
   "outputs": [
    {
     "data": {
      "text/plain": [
       "'jashwanth1'"
      ]
     },
     "execution_count": 17,
     "metadata": {},
     "output_type": "execute_result"
    }
   ],
   "source": [
    "s+str(1)"
   ]
  },
  {
   "cell_type": "code",
   "execution_count": 18,
   "id": "450bbe5b",
   "metadata": {},
   "outputs": [
    {
     "data": {
      "text/plain": [
       "'jashwanth'"
      ]
     },
     "execution_count": 18,
     "metadata": {},
     "output_type": "execute_result"
    }
   ],
   "source": [
    "s\n"
   ]
  },
  {
   "cell_type": "code",
   "execution_count": 19,
   "id": "acf647b4",
   "metadata": {},
   "outputs": [
    {
     "data": {
      "text/plain": [
       "'n'"
      ]
     },
     "execution_count": 19,
     "metadata": {},
     "output_type": "execute_result"
    }
   ],
   "source": [
    "s[6]"
   ]
  },
  {
   "cell_type": "code",
   "execution_count": 20,
   "id": "b543da22",
   "metadata": {},
   "outputs": [
    {
     "ename": "IndexError",
     "evalue": "string index out of range",
     "output_type": "error",
     "traceback": [
      "\u001b[1;31m---------------------------------------------------------------------------\u001b[0m",
      "\u001b[1;31mIndexError\u001b[0m                                Traceback (most recent call last)",
      "Input \u001b[1;32mIn [20]\u001b[0m, in \u001b[0;36m<cell line: 1>\u001b[1;34m()\u001b[0m\n\u001b[1;32m----> 1\u001b[0m \u001b[43ms\u001b[49m\u001b[43m[\u001b[49m\u001b[38;5;241;43m10\u001b[39;49m\u001b[43m]\u001b[49m\n",
      "\u001b[1;31mIndexError\u001b[0m: string index out of range"
     ]
    }
   ],
   "source": [
    "s[10]"
   ]
  },
  {
   "cell_type": "code",
   "execution_count": 21,
   "id": "a3ac03ca",
   "metadata": {},
   "outputs": [
    {
     "ename": "SyntaxError",
     "evalue": "closing parenthesis '}' does not match opening parenthesis '[' (3382185208.py, line 1)",
     "output_type": "error",
     "traceback": [
      "\u001b[1;36m  Input \u001b[1;32mIn [21]\u001b[1;36m\u001b[0m\n\u001b[1;33m    s[-5}]\u001b[0m\n\u001b[1;37m        ^\u001b[0m\n\u001b[1;31mSyntaxError\u001b[0m\u001b[1;31m:\u001b[0m closing parenthesis '}' does not match opening parenthesis '['\n"
     ]
    }
   ],
   "source": [
    "s[-5}]"
   ]
  },
  {
   "cell_type": "code",
   "execution_count": 22,
   "id": "5bf99510",
   "metadata": {},
   "outputs": [
    {
     "data": {
      "text/plain": [
       "'w'"
      ]
     },
     "execution_count": 22,
     "metadata": {},
     "output_type": "execute_result"
    }
   ],
   "source": [
    "s[-5]"
   ]
  },
  {
   "cell_type": "code",
   "execution_count": 23,
   "id": "738aeb8f",
   "metadata": {},
   "outputs": [
    {
     "data": {
      "text/plain": [
       "'1'"
      ]
     },
     "execution_count": 23,
     "metadata": {},
     "output_type": "execute_result"
    }
   ],
   "source": [
    "str(1)"
   ]
  },
  {
   "cell_type": "code",
   "execution_count": 24,
   "id": "e638ed19",
   "metadata": {},
   "outputs": [
    {
     "data": {
      "text/plain": [
       "'jashwanth'"
      ]
     },
     "execution_count": 24,
     "metadata": {},
     "output_type": "execute_result"
    }
   ],
   "source": [
    "s"
   ]
  },
  {
   "cell_type": "code",
   "execution_count": 25,
   "id": "bddc4a11",
   "metadata": {},
   "outputs": [
    {
     "data": {
      "text/plain": [
       "'jashwanthh'"
      ]
     },
     "execution_count": 25,
     "metadata": {},
     "output_type": "execute_result"
    }
   ],
   "source": [
    "s+\"h\""
   ]
  },
  {
   "cell_type": "code",
   "execution_count": 26,
   "id": "d0cf34a3",
   "metadata": {},
   "outputs": [],
   "source": [
    "s=s+\"h\""
   ]
  },
  {
   "cell_type": "code",
   "execution_count": 2,
   "id": "d5423d48",
   "metadata": {},
   "outputs": [
    {
     "ename": "NameError",
     "evalue": "name 's' is not defined",
     "output_type": "error",
     "traceback": [
      "\u001b[1;31m---------------------------------------------------------------------------\u001b[0m",
      "\u001b[1;31mNameError\u001b[0m                                 Traceback (most recent call last)",
      "Input \u001b[1;32mIn [2]\u001b[0m, in \u001b[0;36m<cell line: 1>\u001b[1;34m()\u001b[0m\n\u001b[1;32m----> 1\u001b[0m \u001b[43ms\u001b[49m\n",
      "\u001b[1;31mNameError\u001b[0m: name 's' is not defined"
     ]
    }
   ],
   "source": [
    "s"
   ]
  },
  {
   "cell_type": "code",
   "execution_count": 28,
   "id": "bbe02e78",
   "metadata": {},
   "outputs": [
    {
     "data": {
      "text/plain": [
       "'ashwant'"
      ]
     },
     "execution_count": 28,
     "metadata": {},
     "output_type": "execute_result"
    }
   ],
   "source": [
    "s[1:-2]"
   ]
  },
  {
   "cell_type": "code",
   "execution_count": 29,
   "id": "02240660",
   "metadata": {},
   "outputs": [
    {
     "data": {
      "text/plain": [
       "'anth'"
      ]
     },
     "execution_count": 29,
     "metadata": {},
     "output_type": "execute_result"
    }
   ],
   "source": [
    "s[-5:-1]"
   ]
  },
  {
   "cell_type": "code",
   "execution_count": 30,
   "id": "18798f5f",
   "metadata": {},
   "outputs": [
    {
     "data": {
      "text/plain": [
       "'ashwanth'"
      ]
     },
     "execution_count": 30,
     "metadata": {},
     "output_type": "execute_result"
    }
   ],
   "source": [
    "s[1:-1]"
   ]
  },
  {
   "cell_type": "code",
   "execution_count": 10,
   "id": "e56fdb75",
   "metadata": {},
   "outputs": [
    {
     "data": {
      "text/plain": [
       "''"
      ]
     },
     "execution_count": 10,
     "metadata": {},
     "output_type": "execute_result"
    }
   ],
   "source": [
    "s[1:-1:-1]"
   ]
  },
  {
   "cell_type": "code",
   "execution_count": 14,
   "id": "8096fd1a",
   "metadata": {},
   "outputs": [
    {
     "data": {
      "text/plain": [
       "'htnawhs'"
      ]
     },
     "execution_count": 14,
     "metadata": {},
     "output_type": "execute_result"
    }
   ],
   "source": [
    "s[-1:1:-1]"
   ]
  },
  {
   "cell_type": "code",
   "execution_count": null,
   "id": "41cb0089",
   "metadata": {},
   "outputs": [],
   "source": [
    "s[0]"
   ]
  },
  {
   "cell_type": "code",
   "execution_count": 34,
   "id": "565afc01",
   "metadata": {},
   "outputs": [
    {
     "data": {
      "text/plain": [
       "'a'"
      ]
     },
     "execution_count": 34,
     "metadata": {},
     "output_type": "execute_result"
    }
   ],
   "source": [
    "s[1]"
   ]
  },
  {
   "cell_type": "code",
   "execution_count": 35,
   "id": "8b670133",
   "metadata": {},
   "outputs": [
    {
     "ename": "IndexError",
     "evalue": "string index out of range",
     "output_type": "error",
     "traceback": [
      "\u001b[1;31m---------------------------------------------------------------------------\u001b[0m",
      "\u001b[1;31mIndexError\u001b[0m                                Traceback (most recent call last)",
      "Input \u001b[1;32mIn [35]\u001b[0m, in \u001b[0;36m<cell line: 1>\u001b[1;34m()\u001b[0m\n\u001b[1;32m----> 1\u001b[0m \u001b[43ms\u001b[49m\u001b[43m[\u001b[49m\u001b[38;5;241;43m10\u001b[39;49m\u001b[43m]\u001b[49m\n",
      "\u001b[1;31mIndexError\u001b[0m: string index out of range"
     ]
    }
   ],
   "source": [
    "s[10]"
   ]
  },
  {
   "cell_type": "code",
   "execution_count": 36,
   "id": "6b065732",
   "metadata": {},
   "outputs": [
    {
     "data": {
      "text/plain": [
       "'h'"
      ]
     },
     "execution_count": 36,
     "metadata": {},
     "output_type": "execute_result"
    }
   ],
   "source": [
    "s[8]"
   ]
  },
  {
   "cell_type": "code",
   "execution_count": 37,
   "id": "178d10a2",
   "metadata": {},
   "outputs": [
    {
     "data": {
      "text/plain": [
       "'h'"
      ]
     },
     "execution_count": 37,
     "metadata": {},
     "output_type": "execute_result"
    }
   ],
   "source": [
    "s[9]"
   ]
  },
  {
   "cell_type": "code",
   "execution_count": 38,
   "id": "09bb8812",
   "metadata": {},
   "outputs": [
    {
     "data": {
      "text/plain": [
       "'swn'"
      ]
     },
     "execution_count": 38,
     "metadata": {},
     "output_type": "execute_result"
    }
   ],
   "source": [
    "s[2:-2:2]"
   ]
  },
  {
   "cell_type": "code",
   "execution_count": 39,
   "id": "8f7439d9",
   "metadata": {},
   "outputs": [
    {
     "data": {
      "text/plain": [
       "'jashwanthh'"
      ]
     },
     "execution_count": 39,
     "metadata": {},
     "output_type": "execute_result"
    }
   ],
   "source": [
    "s[::]"
   ]
  },
  {
   "cell_type": "code",
   "execution_count": 40,
   "id": "8606d1f0",
   "metadata": {},
   "outputs": [
    {
     "data": {
      "text/plain": [
       "'jashwanthh'"
      ]
     },
     "execution_count": 40,
     "metadata": {},
     "output_type": "execute_result"
    }
   ],
   "source": [
    "s[:\n",
    "]"
   ]
  },
  {
   "cell_type": "code",
   "execution_count": 41,
   "id": "c6b19672",
   "metadata": {},
   "outputs": [
    {
     "ename": "NameError",
     "evalue": "name 'a' is not defined",
     "output_type": "error",
     "traceback": [
      "\u001b[1;31m---------------------------------------------------------------------------\u001b[0m",
      "\u001b[1;31mNameError\u001b[0m                                 Traceback (most recent call last)",
      "Input \u001b[1;32mIn [41]\u001b[0m, in \u001b[0;36m<cell line: 1>\u001b[1;34m()\u001b[0m\n\u001b[1;32m----> 1\u001b[0m s\u001b[38;5;241m.\u001b[39msplit[\u001b[43ma\u001b[49m]\n",
      "\u001b[1;31mNameError\u001b[0m: name 'a' is not defined"
     ]
    }
   ],
   "source": [
    "s.split[a]"
   ]
  },
  {
   "cell_type": "code",
   "execution_count": 42,
   "id": "3c6ae3f4",
   "metadata": {},
   "outputs": [
    {
     "ename": "TypeError",
     "evalue": "'builtin_function_or_method' object is not subscriptable",
     "output_type": "error",
     "traceback": [
      "\u001b[1;31m---------------------------------------------------------------------------\u001b[0m",
      "\u001b[1;31mTypeError\u001b[0m                                 Traceback (most recent call last)",
      "Input \u001b[1;32mIn [42]\u001b[0m, in \u001b[0;36m<cell line: 1>\u001b[1;34m()\u001b[0m\n\u001b[1;32m----> 1\u001b[0m \u001b[43ms\u001b[49m\u001b[38;5;241;43m.\u001b[39;49m\u001b[43msplit\u001b[49m\u001b[43m[\u001b[49m\u001b[38;5;124;43m\"\u001b[39;49m\u001b[38;5;124;43ma\u001b[39;49m\u001b[38;5;124;43m\"\u001b[39;49m\u001b[43m]\u001b[49m\n",
      "\u001b[1;31mTypeError\u001b[0m: 'builtin_function_or_method' object is not subscriptable"
     ]
    }
   ],
   "source": [
    "s.split[\"a\"]"
   ]
  },
  {
   "cell_type": "code",
   "execution_count": 43,
   "id": "1d8a29e5",
   "metadata": {},
   "outputs": [
    {
     "data": {
      "text/plain": [
       "'jashwanthh'"
      ]
     },
     "execution_count": 43,
     "metadata": {},
     "output_type": "execute_result"
    }
   ],
   "source": [
    "s"
   ]
  },
  {
   "cell_type": "code",
   "execution_count": 44,
   "id": "4a9445d9",
   "metadata": {},
   "outputs": [
    {
     "data": {
      "text/plain": [
       "['j', 'shw', 'nthh']"
      ]
     },
     "execution_count": 44,
     "metadata": {},
     "output_type": "execute_result"
    }
   ],
   "source": [
    "s.split(\"a\")"
   ]
  },
  {
   "cell_type": "markdown",
   "id": "e8247e42",
   "metadata": {},
   "source": [
    "# 28-07-2022"
   ]
  },
  {
   "cell_type": "code",
   "execution_count": 1,
   "id": "e0b190be",
   "metadata": {},
   "outputs": [],
   "source": [
    "str = \"sheshank babu\""
   ]
  },
  {
   "cell_type": "code",
   "execution_count": 2,
   "id": "f3766f64",
   "metadata": {},
   "outputs": [
    {
     "data": {
      "text/plain": [
       "<function str.capitalize()>"
      ]
     },
     "execution_count": 2,
     "metadata": {},
     "output_type": "execute_result"
    }
   ],
   "source": [
    "str.capitalize"
   ]
  },
  {
   "cell_type": "code",
   "execution_count": 23,
   "id": "ae978857",
   "metadata": {},
   "outputs": [
    {
     "data": {
      "text/plain": [
       "'Sheshank babu'"
      ]
     },
     "execution_count": 23,
     "metadata": {},
     "output_type": "execute_result"
    }
   ],
   "source": [
    "str.capitalize()"
   ]
  },
  {
   "cell_type": "code",
   "execution_count": 27,
   "id": "221f63dd",
   "metadata": {},
   "outputs": [
    {
     "data": {
      "text/plain": [
       "2"
      ]
     },
     "execution_count": 27,
     "metadata": {},
     "output_type": "execute_result"
    }
   ],
   "source": [
    "str.count(\"s\")"
   ]
  },
  {
   "cell_type": "code",
   "execution_count": 28,
   "id": "25ca5036",
   "metadata": {},
   "outputs": [
    {
     "data": {
      "text/plain": [
       "'Sheshank Babu'"
      ]
     },
     "execution_count": 28,
     "metadata": {},
     "output_type": "execute_result"
    }
   ],
   "source": [
    "str.title()"
   ]
  },
  {
   "cell_type": "code",
   "execution_count": 29,
   "id": "da3a0fc2",
   "metadata": {},
   "outputs": [
    {
     "data": {
      "text/plain": [
       "'sheshank babu'"
      ]
     },
     "execution_count": 29,
     "metadata": {},
     "output_type": "execute_result"
    }
   ],
   "source": [
    "str.center(10,\"*\")"
   ]
  },
  {
   "cell_type": "code",
   "execution_count": 30,
   "id": "3091d714",
   "metadata": {},
   "outputs": [
    {
     "data": {
      "text/plain": [
       "b'sheshank babu'"
      ]
     },
     "execution_count": 30,
     "metadata": {},
     "output_type": "execute_result"
    }
   ],
   "source": [
    "str.encode()"
   ]
  },
  {
   "cell_type": "code",
   "execution_count": 31,
   "id": "444cff65",
   "metadata": {},
   "outputs": [
    {
     "data": {
      "text/plain": [
       "b'sheshank babu'"
      ]
     },
     "execution_count": 31,
     "metadata": {},
     "output_type": "execute_result"
    }
   ],
   "source": [
    "str.encode()"
   ]
  },
  {
   "cell_type": "code",
   "execution_count": 37,
   "id": "bb6f3ce9",
   "metadata": {},
   "outputs": [
    {
     "data": {
      "text/plain": [
       "True"
      ]
     },
     "execution_count": 37,
     "metadata": {},
     "output_type": "execute_result"
    }
   ],
   "source": [
    "str.islower()"
   ]
  },
  {
   "cell_type": "code",
   "execution_count": 39,
   "id": "0b6231e1",
   "metadata": {},
   "outputs": [
    {
     "data": {
      "text/plain": [
       "False"
      ]
     },
     "execution_count": 39,
     "metadata": {},
     "output_type": "execute_result"
    }
   ],
   "source": [
    "str.endswith(\"des\")"
   ]
  },
  {
   "cell_type": "code",
   "execution_count": 44,
   "id": "ab136b6f",
   "metadata": {},
   "outputs": [
    {
     "data": {
      "text/plain": [
       "'********sheshank babu*********'"
      ]
     },
     "execution_count": 44,
     "metadata": {},
     "output_type": "execute_result"
    }
   ],
   "source": [
    "str.center(30,'*')"
   ]
  },
  {
   "cell_type": "code",
   "execution_count": 45,
   "id": "f3e0e49a",
   "metadata": {},
   "outputs": [
    {
     "data": {
      "text/plain": [
       "'%%%%%%%sheshank babu'"
      ]
     },
     "execution_count": 45,
     "metadata": {},
     "output_type": "execute_result"
    }
   ],
   "source": [
    "str.rjust(20,'%') "
   ]
  },
  {
   "cell_type": "code",
   "execution_count": 46,
   "id": "0a4a8956",
   "metadata": {},
   "outputs": [
    {
     "data": {
      "text/plain": [
       "'sheshank babu%%%%%%%'"
      ]
     },
     "execution_count": 46,
     "metadata": {},
     "output_type": "execute_result"
    }
   ],
   "source": [
    "str.ljust(20,'%')"
   ]
  },
  {
   "cell_type": "code",
   "execution_count": 47,
   "id": "61a61316",
   "metadata": {},
   "outputs": [
    {
     "data": {
      "text/plain": [
       "b'sheshank babu'"
      ]
     },
     "execution_count": 47,
     "metadata": {},
     "output_type": "execute_result"
    }
   ],
   "source": [
    "str.encode(encoding='utf-8', errors='strict')"
   ]
  },
  {
   "cell_type": "code",
   "execution_count": 48,
   "id": "b1ace86e",
   "metadata": {},
   "outputs": [
    {
     "data": {
      "text/plain": [
       "False"
      ]
     },
     "execution_count": 48,
     "metadata": {},
     "output_type": "execute_result"
    }
   ],
   "source": [
    "str.isalnum()"
   ]
  },
  {
   "cell_type": "code",
   "execution_count": 50,
   "id": "af6b17a3",
   "metadata": {},
   "outputs": [
    {
     "data": {
      "text/plain": [
       "True"
      ]
     },
     "execution_count": 50,
     "metadata": {},
     "output_type": "execute_result"
    }
   ],
   "source": [
    "str.isprintable()"
   ]
  },
  {
   "cell_type": "code",
   "execution_count": 51,
   "id": "dbaa3226",
   "metadata": {},
   "outputs": [
    {
     "data": {
      "text/plain": [
       "'sheshank babu'"
      ]
     },
     "execution_count": 51,
     "metadata": {},
     "output_type": "execute_result"
    }
   ],
   "source": [
    "str.strip()"
   ]
  },
  {
   "cell_type": "code",
   "execution_count": 52,
   "id": "3cb9edf5",
   "metadata": {},
   "outputs": [],
   "source": [
    "str = \"     sheshank babu        \""
   ]
  },
  {
   "cell_type": "code",
   "execution_count": 53,
   "id": "84967b58",
   "metadata": {},
   "outputs": [
    {
     "data": {
      "text/plain": [
       "'sheshank babu'"
      ]
     },
     "execution_count": 53,
     "metadata": {},
     "output_type": "execute_result"
    }
   ],
   "source": [
    "str.strip()"
   ]
  },
  {
   "cell_type": "code",
   "execution_count": 54,
   "id": "32dce69e",
   "metadata": {},
   "outputs": [
    {
     "data": {
      "text/plain": [
       "'sheshank babu        '"
      ]
     },
     "execution_count": 54,
     "metadata": {},
     "output_type": "execute_result"
    }
   ],
   "source": [
    "str.lstrip()"
   ]
  },
  {
   "cell_type": "code",
   "execution_count": 55,
   "id": "112f2ec9",
   "metadata": {},
   "outputs": [
    {
     "data": {
      "text/plain": [
       "'     sheshank babu'"
      ]
     },
     "execution_count": 55,
     "metadata": {},
     "output_type": "execute_result"
    }
   ],
   "source": [
    "str.rstrip()"
   ]
  },
  {
   "cell_type": "code",
   "execution_count": 56,
   "id": "c81a0d57",
   "metadata": {},
   "outputs": [
    {
     "data": {
      "text/plain": [
       "'**     sheshank babu        **'"
      ]
     },
     "execution_count": 56,
     "metadata": {},
     "output_type": "execute_result"
    }
   ],
   "source": [
    "str.center(30,\"*\")"
   ]
  },
  {
   "cell_type": "code",
   "execution_count": 57,
   "id": "f7871d69",
   "metadata": {},
   "outputs": [],
   "source": [
    "str = \"sheshank babu\""
   ]
  },
  {
   "cell_type": "code",
   "execution_count": 58,
   "id": "ef270cf8",
   "metadata": {},
   "outputs": [
    {
     "data": {
      "text/plain": [
       "'********sheshank babu*********'"
      ]
     },
     "execution_count": 58,
     "metadata": {},
     "output_type": "execute_result"
    }
   ],
   "source": [
    "str.center(30,\"*\")"
   ]
  },
  {
   "cell_type": "code",
   "execution_count": 60,
   "id": "68d3077e",
   "metadata": {},
   "outputs": [
    {
     "data": {
      "text/plain": [
       "'########sheshank babu#########'"
      ]
     },
     "execution_count": 60,
     "metadata": {},
     "output_type": "execute_result"
    }
   ],
   "source": [
    "str.center(30,\"#\")"
   ]
  },
  {
   "cell_type": "code",
   "execution_count": 61,
   "id": "b1ed40ab",
   "metadata": {},
   "outputs": [
    {
     "data": {
      "text/plain": [
       "2"
      ]
     },
     "execution_count": 61,
     "metadata": {},
     "output_type": "execute_result"
    }
   ],
   "source": [
    "str.count(\"a\")"
   ]
  },
  {
   "cell_type": "code",
   "execution_count": 62,
   "id": "2815391c",
   "metadata": {},
   "outputs": [],
   "source": [
    "str2 = \"greeshmai\""
   ]
  },
  {
   "cell_type": "code",
   "execution_count": 64,
   "id": "4bd38f03",
   "metadata": {},
   "outputs": [
    {
     "data": {
      "text/plain": [
       "2"
      ]
     },
     "execution_count": 64,
     "metadata": {},
     "output_type": "execute_result"
    }
   ],
   "source": [
    "str2.count(\"e\")"
   ]
  },
  {
   "cell_type": "code",
   "execution_count": 65,
   "id": "f8f681a4",
   "metadata": {},
   "outputs": [
    {
     "data": {
      "text/plain": [
       "2"
      ]
     },
     "execution_count": 65,
     "metadata": {},
     "output_type": "execute_result"
    }
   ],
   "source": [
    "str2.index(\"e\")"
   ]
  },
  {
   "cell_type": "code",
   "execution_count": 66,
   "id": "1d98bd5b",
   "metadata": {},
   "outputs": [
    {
     "data": {
      "text/plain": [
       "0"
      ]
     },
     "execution_count": 66,
     "metadata": {},
     "output_type": "execute_result"
    }
   ],
   "source": [
    "str.index(\"s\")"
   ]
  },
  {
   "cell_type": "code",
   "execution_count": 67,
   "id": "c746b154",
   "metadata": {},
   "outputs": [],
   "source": [
    "str3 = \"Sanjay\""
   ]
  },
  {
   "cell_type": "code",
   "execution_count": 68,
   "id": "32555244",
   "metadata": {},
   "outputs": [
    {
     "data": {
      "text/plain": [
       "'SANJAY'"
      ]
     },
     "execution_count": 68,
     "metadata": {},
     "output_type": "execute_result"
    }
   ],
   "source": [
    "str3.upper()"
   ]
  },
  {
   "cell_type": "code",
   "execution_count": 69,
   "id": "f57c313d",
   "metadata": {},
   "outputs": [],
   "source": [
    "str4 = \"SHEshank\""
   ]
  },
  {
   "cell_type": "code",
   "execution_count": 71,
   "id": "ac3fd498",
   "metadata": {},
   "outputs": [
    {
     "data": {
      "text/plain": [
       "'sheshank'"
      ]
     },
     "execution_count": 71,
     "metadata": {},
     "output_type": "execute_result"
    }
   ],
   "source": [
    "str4.lower()"
   ]
  },
  {
   "cell_type": "code",
   "execution_count": 72,
   "id": "025d6f4f",
   "metadata": {},
   "outputs": [
    {
     "data": {
      "text/plain": [
       "'SHESHANK BABU'"
      ]
     },
     "execution_count": 72,
     "metadata": {},
     "output_type": "execute_result"
    }
   ],
   "source": [
    "str.swapcase()"
   ]
  },
  {
   "cell_type": "code",
   "execution_count": 73,
   "id": "b032f2bb",
   "metadata": {},
   "outputs": [
    {
     "data": {
      "text/plain": [
       "'sheSHANK'"
      ]
     },
     "execution_count": 73,
     "metadata": {},
     "output_type": "execute_result"
    }
   ],
   "source": [
    "str4.swapcase()"
   ]
  },
  {
   "cell_type": "code",
   "execution_count": 74,
   "id": "9620453a",
   "metadata": {},
   "outputs": [
    {
     "data": {
      "text/plain": [
       "['SHEsh', 'nk']"
      ]
     },
     "execution_count": 74,
     "metadata": {},
     "output_type": "execute_result"
    }
   ],
   "source": [
    "str4.split(\"a\")"
   ]
  },
  {
   "cell_type": "code",
   "execution_count": 75,
   "id": "f660ca46",
   "metadata": {},
   "outputs": [
    {
     "data": {
      "text/plain": [
       "True"
      ]
     },
     "execution_count": 75,
     "metadata": {},
     "output_type": "execute_result"
    }
   ],
   "source": [
    "str4.isalnum()"
   ]
  },
  {
   "cell_type": "code",
   "execution_count": 76,
   "id": "735e879c",
   "metadata": {},
   "outputs": [],
   "source": [
    "str5 = \"sashank123\""
   ]
  },
  {
   "cell_type": "code",
   "execution_count": 77,
   "id": "ae503859",
   "metadata": {},
   "outputs": [
    {
     "data": {
      "text/plain": [
       "True"
      ]
     },
     "execution_count": 77,
     "metadata": {},
     "output_type": "execute_result"
    }
   ],
   "source": [
    "str5.isalnum()"
   ]
  },
  {
   "cell_type": "code",
   "execution_count": 79,
   "id": "28c190f2",
   "metadata": {},
   "outputs": [
    {
     "data": {
      "text/plain": [
       "False"
      ]
     },
     "execution_count": 79,
     "metadata": {},
     "output_type": "execute_result"
    }
   ],
   "source": [
    "str5.isalpha()"
   ]
  },
  {
   "cell_type": "code",
   "execution_count": 81,
   "id": "6e56b497",
   "metadata": {},
   "outputs": [
    {
     "data": {
      "text/plain": [
       "True"
      ]
     },
     "execution_count": 81,
     "metadata": {},
     "output_type": "execute_result"
    }
   ],
   "source": [
    "str5.isalnum()"
   ]
  },
  {
   "cell_type": "code",
   "execution_count": 82,
   "id": "8887efdd",
   "metadata": {},
   "outputs": [
    {
     "data": {
      "text/plain": [
       "True"
      ]
     },
     "execution_count": 82,
     "metadata": {},
     "output_type": "execute_result"
    }
   ],
   "source": [
    "str5.isascii()"
   ]
  },
  {
   "cell_type": "code",
   "execution_count": 84,
   "id": "5742bb12",
   "metadata": {},
   "outputs": [
    {
     "data": {
      "text/plain": [
       "False"
      ]
     },
     "execution_count": 84,
     "metadata": {},
     "output_type": "execute_result"
    }
   ],
   "source": [
    "str5.isdigit()"
   ]
  },
  {
   "cell_type": "code",
   "execution_count": 93,
   "id": "000a6e7e",
   "metadata": {},
   "outputs": [],
   "source": [
    "str6 = \"343543\"\n"
   ]
  },
  {
   "cell_type": "code",
   "execution_count": 94,
   "id": "d42f56e3",
   "metadata": {},
   "outputs": [
    {
     "data": {
      "text/plain": [
       "True"
      ]
     },
     "execution_count": 94,
     "metadata": {},
     "output_type": "execute_result"
    }
   ],
   "source": [
    "str6.isdigit()"
   ]
  },
  {
   "cell_type": "code",
   "execution_count": 95,
   "id": "e3bc7379",
   "metadata": {},
   "outputs": [
    {
     "data": {
      "text/plain": [
       "True"
      ]
     },
     "execution_count": 95,
     "metadata": {},
     "output_type": "execute_result"
    }
   ],
   "source": [
    "str6.isnumeric()"
   ]
  },
  {
   "cell_type": "code",
   "execution_count": 96,
   "id": "29908c46",
   "metadata": {},
   "outputs": [
    {
     "data": {
      "text/plain": [
       "True"
      ]
     },
     "execution_count": 96,
     "metadata": {},
     "output_type": "execute_result"
    }
   ],
   "source": [
    "str6.isdecimal()"
   ]
  },
  {
   "cell_type": "code",
   "execution_count": 97,
   "id": "4bbafafd",
   "metadata": {},
   "outputs": [],
   "source": [
    "str7 = \"Bharath\"\n"
   ]
  },
  {
   "cell_type": "code",
   "execution_count": 98,
   "id": "405537ff",
   "metadata": {},
   "outputs": [
    {
     "data": {
      "text/plain": [
       "False"
      ]
     },
     "execution_count": 98,
     "metadata": {},
     "output_type": "execute_result"
    }
   ],
   "source": [
    "str.isupper()"
   ]
  },
  {
   "cell_type": "code",
   "execution_count": 99,
   "id": "bfab32b9",
   "metadata": {},
   "outputs": [
    {
     "data": {
      "text/plain": [
       "False"
      ]
     },
     "execution_count": 99,
     "metadata": {},
     "output_type": "execute_result"
    }
   ],
   "source": [
    "str7.islower()"
   ]
  },
  {
   "cell_type": "code",
   "execution_count": 100,
   "id": "90d18830",
   "metadata": {},
   "outputs": [],
   "source": [
    "str8 = \"bharath\""
   ]
  },
  {
   "cell_type": "code",
   "execution_count": 101,
   "id": "4de12693",
   "metadata": {},
   "outputs": [
    {
     "data": {
      "text/plain": [
       "True"
      ]
     },
     "execution_count": 101,
     "metadata": {},
     "output_type": "execute_result"
    }
   ],
   "source": [
    "str8.islower()"
   ]
  },
  {
   "cell_type": "code",
   "execution_count": 103,
   "id": "9ef13efa",
   "metadata": {},
   "outputs": [
    {
     "ename": "AttributeError",
     "evalue": "'str' object has no attribute 'reverse'",
     "output_type": "error",
     "traceback": [
      "\u001b[1;31m---------------------------------------------------------------------------\u001b[0m",
      "\u001b[1;31mAttributeError\u001b[0m                            Traceback (most recent call last)",
      "Input \u001b[1;32mIn [103]\u001b[0m, in \u001b[0;36m<cell line: 1>\u001b[1;34m()\u001b[0m\n\u001b[1;32m----> 1\u001b[0m \u001b[38;5;28;43mstr\u001b[39;49m\u001b[38;5;241;43m.\u001b[39;49m\u001b[43mreverse\u001b[49m()\n",
      "\u001b[1;31mAttributeError\u001b[0m: 'str' object has no attribute 'reverse'"
     ]
    }
   ],
   "source": [
    "str.reverse()"
   ]
  },
  {
   "cell_type": "code",
   "execution_count": 104,
   "id": "9ed8159b",
   "metadata": {},
   "outputs": [
    {
     "data": {
      "text/plain": [
       "'b*h*a*r*a*t*h'"
      ]
     },
     "execution_count": 104,
     "metadata": {},
     "output_type": "execute_result"
    }
   ],
   "source": [
    "\"*\".join(str8)"
   ]
  },
  {
   "cell_type": "markdown",
   "id": "865fff4b",
   "metadata": {},
   "source": [
    "# 1-08-2022"
   ]
  },
  {
   "cell_type": "code",
   "execution_count": 10,
   "id": "770c7df4",
   "metadata": {},
   "outputs": [],
   "source": [
    "l = [1,2,3,\"sheesh\",\"damn\"]"
   ]
  },
  {
   "cell_type": "code",
   "execution_count": 11,
   "id": "841fe85e",
   "metadata": {},
   "outputs": [
    {
     "data": {
      "text/plain": [
       "list"
      ]
     },
     "execution_count": 11,
     "metadata": {},
     "output_type": "execute_result"
    }
   ],
   "source": [
    "type(l)"
   ]
  },
  {
   "cell_type": "code",
   "execution_count": 12,
   "id": "d7167340",
   "metadata": {},
   "outputs": [
    {
     "ename": "IndexError",
     "evalue": "list index out of range",
     "output_type": "error",
     "traceback": [
      "\u001b[1;31m---------------------------------------------------------------------------\u001b[0m",
      "\u001b[1;31mIndexError\u001b[0m                                Traceback (most recent call last)",
      "Input \u001b[1;32mIn [12]\u001b[0m, in \u001b[0;36m<cell line: 1>\u001b[1;34m()\u001b[0m\n\u001b[1;32m----> 1\u001b[0m \u001b[43ml\u001b[49m\u001b[43m[\u001b[49m\u001b[38;5;241;43m6\u001b[39;49m\u001b[43m]\u001b[49m\n",
      "\u001b[1;31mIndexError\u001b[0m: list index out of range"
     ]
    }
   ],
   "source": [
    "l[6]"
   ]
  },
  {
   "cell_type": "code",
   "execution_count": 13,
   "id": "25bb0ee8",
   "metadata": {},
   "outputs": [
    {
     "data": {
      "text/plain": [
       "'sheesh'"
      ]
     },
     "execution_count": 13,
     "metadata": {},
     "output_type": "execute_result"
    }
   ],
   "source": [
    "l[3]"
   ]
  },
  {
   "cell_type": "code",
   "execution_count": 17,
   "id": "06a818a3",
   "metadata": {},
   "outputs": [
    {
     "data": {
      "text/plain": [
       "'damn'"
      ]
     },
     "execution_count": 17,
     "metadata": {},
     "output_type": "execute_result"
    }
   ],
   "source": [
    "l[-1]"
   ]
  },
  {
   "cell_type": "code",
   "execution_count": 15,
   "id": "bba0ddff",
   "metadata": {},
   "outputs": [
    {
     "data": {
      "text/plain": [
       "'damn'"
      ]
     },
     "execution_count": 15,
     "metadata": {},
     "output_type": "execute_result"
    }
   ],
   "source": [
    "l[-1]"
   ]
  },
  {
   "cell_type": "code",
   "execution_count": 16,
   "id": "27edfcce",
   "metadata": {},
   "outputs": [
    {
     "data": {
      "text/plain": [
       "[1, 3, 'damn']"
      ]
     },
     "execution_count": 16,
     "metadata": {},
     "output_type": "execute_result"
    }
   ],
   "source": [
    "l[0:6:2]"
   ]
  },
  {
   "cell_type": "code",
   "execution_count": 18,
   "id": "d660aef1",
   "metadata": {},
   "outputs": [
    {
     "data": {
      "text/plain": [
       "[1, 'sheesh']"
      ]
     },
     "execution_count": 18,
     "metadata": {},
     "output_type": "execute_result"
    }
   ],
   "source": [
    "l[0:6:3]"
   ]
  },
  {
   "cell_type": "code",
   "execution_count": 19,
   "id": "c80914d6",
   "metadata": {},
   "outputs": [
    {
     "data": {
      "text/plain": [
       "[1, 2, 3, 'sheesh', 'damn']"
      ]
     },
     "execution_count": 19,
     "metadata": {},
     "output_type": "execute_result"
    }
   ],
   "source": [
    "l"
   ]
  },
  {
   "cell_type": "code",
   "execution_count": 20,
   "id": "af40fd42",
   "metadata": {},
   "outputs": [
    {
     "data": {
      "text/plain": [
       "[]"
      ]
     },
     "execution_count": 20,
     "metadata": {},
     "output_type": "execute_result"
    }
   ],
   "source": [
    "l[5:0:2]"
   ]
  },
  {
   "cell_type": "code",
   "execution_count": 21,
   "id": "8c1dec1c",
   "metadata": {},
   "outputs": [
    {
     "data": {
      "text/plain": [
       "['damn', 3]"
      ]
     },
     "execution_count": 21,
     "metadata": {},
     "output_type": "execute_result"
    }
   ],
   "source": [
    "l[5:0:-2]"
   ]
  },
  {
   "cell_type": "code",
   "execution_count": 22,
   "id": "50e72c13",
   "metadata": {},
   "outputs": [],
   "source": [
    "l= [4,2,0,\"Vamshit\",\"akshat\",\"Manwhore\",6.9,False]"
   ]
  },
  {
   "cell_type": "code",
   "execution_count": 23,
   "id": "dbb1b8cd",
   "metadata": {},
   "outputs": [
    {
     "data": {
      "text/plain": [
       "[4, 2, 0, 'Vamshit', 'akshat', 'Manwhore', 6.9, False]"
      ]
     },
     "execution_count": 23,
     "metadata": {},
     "output_type": "execute_result"
    }
   ],
   "source": [
    "l"
   ]
  },
  {
   "cell_type": "code",
   "execution_count": 24,
   "id": "c9ce4049",
   "metadata": {},
   "outputs": [
    {
     "data": {
      "text/plain": [
       "list"
      ]
     },
     "execution_count": 24,
     "metadata": {},
     "output_type": "execute_result"
    }
   ],
   "source": [
    "type(l)"
   ]
  },
  {
   "cell_type": "code",
   "execution_count": 25,
   "id": "e768fb61",
   "metadata": {},
   "outputs": [
    {
     "data": {
      "text/plain": [
       "[False, 'Manwhore', 'Vamshit', 2]"
      ]
     },
     "execution_count": 25,
     "metadata": {},
     "output_type": "execute_result"
    }
   ],
   "source": [
    "l[-1:-100:-2]"
   ]
  },
  {
   "cell_type": "code",
   "execution_count": 26,
   "id": "9e5b3458",
   "metadata": {},
   "outputs": [
    {
     "data": {
      "text/plain": [
       "[False, 6.9, 'Manwhore', 'akshat', 'Vamshit', 0]"
      ]
     },
     "execution_count": 26,
     "metadata": {},
     "output_type": "execute_result"
    }
   ],
   "source": [
    "l[-1:1:-1]"
   ]
  },
  {
   "cell_type": "code",
   "execution_count": 27,
   "id": "96dfffe0",
   "metadata": {},
   "outputs": [
    {
     "data": {
      "text/plain": [
       "[False]"
      ]
     },
     "execution_count": 27,
     "metadata": {},
     "output_type": "execute_result"
    }
   ],
   "source": [
    "l[-1:1:-100]"
   ]
  },
  {
   "cell_type": "code",
   "execution_count": 28,
   "id": "e6e13aac",
   "metadata": {},
   "outputs": [
    {
     "data": {
      "text/plain": [
       "[False, 6.9, 'Manwhore', 'akshat', 'Vamshit', 0, 2, 4]"
      ]
     },
     "execution_count": 28,
     "metadata": {},
     "output_type": "execute_result"
    }
   ],
   "source": [
    "l[-1:-100:-1]"
   ]
  },
  {
   "cell_type": "code",
   "execution_count": 29,
   "id": "801692ae",
   "metadata": {},
   "outputs": [
    {
     "ename": "TypeError",
     "evalue": "can only concatenate list (not \"str\") to list",
     "output_type": "error",
     "traceback": [
      "\u001b[1;31m---------------------------------------------------------------------------\u001b[0m",
      "\u001b[1;31mTypeError\u001b[0m                                 Traceback (most recent call last)",
      "Input \u001b[1;32mIn [29]\u001b[0m, in \u001b[0;36m<cell line: 1>\u001b[1;34m()\u001b[0m\n\u001b[1;32m----> 1\u001b[0m \u001b[43ml\u001b[49m\u001b[38;5;241;43m+\u001b[39;49m\u001b[38;5;124;43m\"\u001b[39;49m\u001b[38;5;124;43mHarsha\u001b[39;49m\u001b[38;5;124;43m\"\u001b[39;49m\n",
      "\u001b[1;31mTypeError\u001b[0m: can only concatenate list (not \"str\") to list"
     ]
    }
   ],
   "source": [
    "l+\"Harsha\""
   ]
  },
  {
   "cell_type": "code",
   "execution_count": 30,
   "id": "5e72dad6",
   "metadata": {},
   "outputs": [
    {
     "data": {
      "text/plain": [
       "[4, 2, 0, 'Vamshit', 'akshat', 'Manwhore', 6.9, False, 'harsha']"
      ]
     },
     "execution_count": 30,
     "metadata": {},
     "output_type": "execute_result"
    }
   ],
   "source": [
    "l+ [\"harsha\"]"
   ]
  },
  {
   "cell_type": "code",
   "execution_count": 31,
   "id": "4829510b",
   "metadata": {},
   "outputs": [
    {
     "data": {
      "text/plain": [
       "[4, 2, 0, 'Vamshit', 'akshat', 'Manwhore', 6.9, False]"
      ]
     },
     "execution_count": 31,
     "metadata": {},
     "output_type": "execute_result"
    }
   ],
   "source": [
    "l"
   ]
  },
  {
   "cell_type": "code",
   "execution_count": 32,
   "id": "85f706a5",
   "metadata": {},
   "outputs": [
    {
     "ename": "NameError",
     "evalue": "name 'Manwhore' is not defined",
     "output_type": "error",
     "traceback": [
      "\u001b[1;31m---------------------------------------------------------------------------\u001b[0m",
      "\u001b[1;31mNameError\u001b[0m                                 Traceback (most recent call last)",
      "Input \u001b[1;32mIn [32]\u001b[0m, in \u001b[0;36m<cell line: 1>\u001b[1;34m()\u001b[0m\n\u001b[1;32m----> 1\u001b[0m l[\u001b[43mManwhore\u001b[49m]\n",
      "\u001b[1;31mNameError\u001b[0m: name 'Manwhore' is not defined"
     ]
    }
   ],
   "source": [
    "l[Manwhore]"
   ]
  },
  {
   "cell_type": "code",
   "execution_count": 33,
   "id": "f6d3f85a",
   "metadata": {},
   "outputs": [
    {
     "ename": "TypeError",
     "evalue": "list indices must be integers or slices, not str",
     "output_type": "error",
     "traceback": [
      "\u001b[1;31m---------------------------------------------------------------------------\u001b[0m",
      "\u001b[1;31mTypeError\u001b[0m                                 Traceback (most recent call last)",
      "Input \u001b[1;32mIn [33]\u001b[0m, in \u001b[0;36m<cell line: 1>\u001b[1;34m()\u001b[0m\n\u001b[1;32m----> 1\u001b[0m \u001b[43ml\u001b[49m\u001b[43m[\u001b[49m\u001b[38;5;124;43m\"\u001b[39;49m\u001b[38;5;124;43mmanwhore\u001b[39;49m\u001b[38;5;124;43m\"\u001b[39;49m\u001b[43m]\u001b[49m\n",
      "\u001b[1;31mTypeError\u001b[0m: list indices must be integers or slices, not str"
     ]
    }
   ],
   "source": [
    "l[\"manwhore\"]"
   ]
  },
  {
   "cell_type": "code",
   "execution_count": 34,
   "id": "175be1a1",
   "metadata": {},
   "outputs": [
    {
     "ename": "TypeError",
     "evalue": "list indices must be integers or slices, not str",
     "output_type": "error",
     "traceback": [
      "\u001b[1;31m---------------------------------------------------------------------------\u001b[0m",
      "\u001b[1;31mTypeError\u001b[0m                                 Traceback (most recent call last)",
      "Input \u001b[1;32mIn [34]\u001b[0m, in \u001b[0;36m<cell line: 1>\u001b[1;34m()\u001b[0m\n\u001b[1;32m----> 1\u001b[0m \u001b[43ml\u001b[49m\u001b[43m[\u001b[49m\u001b[38;5;124;43m\"\u001b[39;49m\u001b[38;5;124;43mManwhore\u001b[39;49m\u001b[38;5;124;43m\"\u001b[39;49m\u001b[43m]\u001b[49m\n",
      "\u001b[1;31mTypeError\u001b[0m: list indices must be integers or slices, not str"
     ]
    }
   ],
   "source": [
    "l[\"Manwhore\"]"
   ]
  },
  {
   "cell_type": "code",
   "execution_count": 35,
   "id": "d5f5e794",
   "metadata": {},
   "outputs": [
    {
     "ename": "NameError",
     "evalue": "name 'Manwhore' is not defined",
     "output_type": "error",
     "traceback": [
      "\u001b[1;31m---------------------------------------------------------------------------\u001b[0m",
      "\u001b[1;31mNameError\u001b[0m                                 Traceback (most recent call last)",
      "Input \u001b[1;32mIn [35]\u001b[0m, in \u001b[0;36m<cell line: 1>\u001b[1;34m()\u001b[0m\n\u001b[1;32m----> 1\u001b[0m \u001b[43mManwhore\u001b[49m \u001b[38;5;129;01min\u001b[39;00m l\n",
      "\u001b[1;31mNameError\u001b[0m: name 'Manwhore' is not defined"
     ]
    }
   ],
   "source": [
    "Manwhore in l"
   ]
  },
  {
   "cell_type": "code",
   "execution_count": 36,
   "id": "ecc3969d",
   "metadata": {},
   "outputs": [
    {
     "data": {
      "text/plain": [
       "True"
      ]
     },
     "execution_count": 36,
     "metadata": {},
     "output_type": "execute_result"
    }
   ],
   "source": [
    "\"Manwhore\" in l"
   ]
  },
  {
   "cell_type": "code",
   "execution_count": 37,
   "id": "71e7b44a",
   "metadata": {},
   "outputs": [
    {
     "data": {
      "text/plain": [
       "False"
      ]
     },
     "execution_count": 37,
     "metadata": {},
     "output_type": "execute_result"
    }
   ],
   "source": [
    "70 in l"
   ]
  },
  {
   "cell_type": "code",
   "execution_count": 40,
   "id": "43ced743",
   "metadata": {},
   "outputs": [],
   "source": [
    "l.append(\"vankershit\")"
   ]
  },
  {
   "cell_type": "code",
   "execution_count": 42,
   "id": "7412d7eb",
   "metadata": {},
   "outputs": [
    {
     "data": {
      "text/plain": [
       "[4, 2, 0, 'Vamshit', 'akshat', 'Manwhore', 6.9, False, 'harsha', 'vankershit']"
      ]
     },
     "execution_count": 42,
     "metadata": {},
     "output_type": "execute_result"
    }
   ],
   "source": [
    "l\n",
    "\n"
   ]
  },
  {
   "cell_type": "code",
   "execution_count": 43,
   "id": "b5827652",
   "metadata": {},
   "outputs": [
    {
     "data": {
      "text/plain": [
       "1"
      ]
     },
     "execution_count": 43,
     "metadata": {},
     "output_type": "execute_result"
    }
   ],
   "source": [
    "l.count(4)"
   ]
  },
  {
   "cell_type": "code",
   "execution_count": 45,
   "id": "f9eaa0b4",
   "metadata": {},
   "outputs": [],
   "source": [
    "l.extend(\"Kerrshit\")"
   ]
  },
  {
   "cell_type": "code",
   "execution_count": 46,
   "id": "7b2a8e98",
   "metadata": {},
   "outputs": [
    {
     "data": {
      "text/plain": [
       "[4,\n",
       " 2,\n",
       " 0,\n",
       " 'Vamshit',\n",
       " 'akshat',\n",
       " 'Manwhore',\n",
       " 6.9,\n",
       " False,\n",
       " 'harsha',\n",
       " 'vankershit',\n",
       " 'K',\n",
       " 'e',\n",
       " 'r',\n",
       " 'r',\n",
       " 's',\n",
       " 'h',\n",
       " 'i',\n",
       " 't']"
      ]
     },
     "execution_count": 46,
     "metadata": {},
     "output_type": "execute_result"
    }
   ],
   "source": [
    "l"
   ]
  },
  {
   "cell_type": "code",
   "execution_count": 47,
   "id": "50b2bc94",
   "metadata": {},
   "outputs": [
    {
     "data": {
      "text/plain": [
       "[4,\n",
       " 2,\n",
       " 0,\n",
       " 'Vamshit',\n",
       " 'akshat',\n",
       " 'Manwhore',\n",
       " 6.9,\n",
       " False,\n",
       " 'harsha',\n",
       " 'vankershit',\n",
       " 'K',\n",
       " 'e',\n",
       " 'r',\n",
       " 'r',\n",
       " 's',\n",
       " 'h',\n",
       " 'i',\n",
       " 't']"
      ]
     },
     "execution_count": 47,
     "metadata": {},
     "output_type": "execute_result"
    }
   ],
   "source": [
    "l"
   ]
  },
  {
   "cell_type": "code",
   "execution_count": 49,
   "id": "af58afc3",
   "metadata": {},
   "outputs": [
    {
     "ename": "TypeError",
     "evalue": "'builtin_function_or_method' object is not subscriptable",
     "output_type": "error",
     "traceback": [
      "\u001b[1;31m---------------------------------------------------------------------------\u001b[0m",
      "\u001b[1;31mTypeError\u001b[0m                                 Traceback (most recent call last)",
      "Input \u001b[1;32mIn [49]\u001b[0m, in \u001b[0;36m<cell line: 1>\u001b[1;34m()\u001b[0m\n\u001b[1;32m----> 1\u001b[0m \u001b[43ml\u001b[49m\u001b[38;5;241;43m.\u001b[39;49m\u001b[43mextend\u001b[49m\u001b[43m[\u001b[49m\u001b[38;5;241;43m5\u001b[39;49m\u001b[43m,\u001b[49m\u001b[38;5;241;43m6\u001b[39;49m\u001b[43m,\u001b[49m\u001b[38;5;241;43m7\u001b[39;49m\u001b[43m,\u001b[49m\u001b[38;5;28;43;01mTrue\u001b[39;49;00m\u001b[43m,\u001b[49m\u001b[38;5;241;43m8.9\u001b[39;49m\u001b[43m]\u001b[49m\n",
      "\u001b[1;31mTypeError\u001b[0m: 'builtin_function_or_method' object is not subscriptable"
     ]
    }
   ],
   "source": [
    "l.extend[5,6,7,True,8.9]"
   ]
  },
  {
   "cell_type": "code",
   "execution_count": 50,
   "id": "7f2b1562",
   "metadata": {},
   "outputs": [],
   "source": [
    "l.extend([5,6,7,True,8.9])"
   ]
  },
  {
   "cell_type": "code",
   "execution_count": 51,
   "id": "b15c9ed1",
   "metadata": {},
   "outputs": [
    {
     "data": {
      "text/plain": [
       "[4,\n",
       " 2,\n",
       " 0,\n",
       " 'Vamshit',\n",
       " 'akshat',\n",
       " 'Manwhore',\n",
       " 6.9,\n",
       " False,\n",
       " 'harsha',\n",
       " 'vankershit',\n",
       " 'K',\n",
       " 'e',\n",
       " 'r',\n",
       " 'r',\n",
       " 's',\n",
       " 'h',\n",
       " 'i',\n",
       " 't',\n",
       " 5,\n",
       " 6,\n",
       " 7,\n",
       " True,\n",
       " 8.9]"
      ]
     },
     "execution_count": 51,
     "metadata": {},
     "output_type": "execute_result"
    }
   ],
   "source": [
    "l"
   ]
  },
  {
   "cell_type": "code",
   "execution_count": 52,
   "id": "11266f49",
   "metadata": {},
   "outputs": [],
   "source": [
    "l.extend(\"guuu\")"
   ]
  },
  {
   "cell_type": "code",
   "execution_count": 53,
   "id": "477b58b4",
   "metadata": {},
   "outputs": [
    {
     "data": {
      "text/plain": [
       "[4,\n",
       " 2,\n",
       " 0,\n",
       " 'Vamshit',\n",
       " 'akshat',\n",
       " 'Manwhore',\n",
       " 6.9,\n",
       " False,\n",
       " 'harsha',\n",
       " 'vankershit',\n",
       " 'K',\n",
       " 'e',\n",
       " 'r',\n",
       " 'r',\n",
       " 's',\n",
       " 'h',\n",
       " 'i',\n",
       " 't',\n",
       " 5,\n",
       " 6,\n",
       " 7,\n",
       " True,\n",
       " 8.9,\n",
       " 'g',\n",
       " 'u',\n",
       " 'u',\n",
       " 'u']"
      ]
     },
     "execution_count": 53,
     "metadata": {},
     "output_type": "execute_result"
    }
   ],
   "source": [
    "l\n"
   ]
  },
  {
   "cell_type": "code",
   "execution_count": 54,
   "id": "6a663ebc",
   "metadata": {},
   "outputs": [],
   "source": [
    "l1=[5,4,5,6,7,8,3,3,3,3]"
   ]
  },
  {
   "cell_type": "code",
   "execution_count": 55,
   "id": "8bf3c321",
   "metadata": {},
   "outputs": [
    {
     "data": {
      "text/plain": [
       "6"
      ]
     },
     "execution_count": 55,
     "metadata": {},
     "output_type": "execute_result"
    }
   ],
   "source": [
    "l1.index(3)"
   ]
  },
  {
   "cell_type": "code",
   "execution_count": 56,
   "id": "129cc049",
   "metadata": {},
   "outputs": [
    {
     "data": {
      "text/plain": [
       "3"
      ]
     },
     "execution_count": 56,
     "metadata": {},
     "output_type": "execute_result"
    }
   ],
   "source": [
    "l1.pop()"
   ]
  },
  {
   "cell_type": "code",
   "execution_count": 57,
   "id": "983b73f2",
   "metadata": {},
   "outputs": [
    {
     "data": {
      "text/plain": [
       "[4,\n",
       " 2,\n",
       " 0,\n",
       " 'Vamshit',\n",
       " 'akshat',\n",
       " 'Manwhore',\n",
       " 6.9,\n",
       " False,\n",
       " 'harsha',\n",
       " 'vankershit',\n",
       " 'K',\n",
       " 'e',\n",
       " 'r',\n",
       " 'r',\n",
       " 's',\n",
       " 'h',\n",
       " 'i',\n",
       " 't',\n",
       " 5,\n",
       " 6,\n",
       " 7,\n",
       " True,\n",
       " 8.9,\n",
       " 'g',\n",
       " 'u',\n",
       " 'u',\n",
       " 'u']"
      ]
     },
     "execution_count": 57,
     "metadata": {},
     "output_type": "execute_result"
    }
   ],
   "source": [
    "l"
   ]
  },
  {
   "cell_type": "code",
   "execution_count": 58,
   "id": "3025d493",
   "metadata": {},
   "outputs": [
    {
     "data": {
      "text/plain": [
       "[5, 4, 5, 6, 7, 8, 3, 3, 3]"
      ]
     },
     "execution_count": 58,
     "metadata": {},
     "output_type": "execute_result"
    }
   ],
   "source": [
    "l1"
   ]
  },
  {
   "cell_type": "markdown",
   "id": "b7846854",
   "metadata": {},
   "source": [
    "IT is like LIFO - last in first out , 5,4,3 - 3 is last in and 3 will be first out"
   ]
  },
  {
   "cell_type": "code",
   "execution_count": 59,
   "id": "e156f8e1",
   "metadata": {},
   "outputs": [
    {
     "data": {
      "text/plain": [
       "6"
      ]
     },
     "execution_count": 59,
     "metadata": {},
     "output_type": "execute_result"
    }
   ],
   "source": [
    "l1.pop(3)"
   ]
  },
  {
   "cell_type": "code",
   "execution_count": 60,
   "id": "3673c5e9",
   "metadata": {},
   "outputs": [
    {
     "data": {
      "text/plain": [
       "[4,\n",
       " 2,\n",
       " 0,\n",
       " 'Vamshit',\n",
       " 'akshat',\n",
       " 'Manwhore',\n",
       " 6.9,\n",
       " False,\n",
       " 'harsha',\n",
       " 'vankershit',\n",
       " 'K',\n",
       " 'e',\n",
       " 'r',\n",
       " 'r',\n",
       " 's',\n",
       " 'h',\n",
       " 'i',\n",
       " 't',\n",
       " 5,\n",
       " 6,\n",
       " 7,\n",
       " True,\n",
       " 8.9,\n",
       " 'g',\n",
       " 'u',\n",
       " 'u',\n",
       " 'u']"
      ]
     },
     "execution_count": 60,
     "metadata": {},
     "output_type": "execute_result"
    }
   ],
   "source": [
    "l"
   ]
  },
  {
   "cell_type": "code",
   "execution_count": 61,
   "id": "c6df38ee",
   "metadata": {},
   "outputs": [
    {
     "data": {
      "text/plain": [
       "[5, 4, 5, 7, 8, 3, 3, 3]"
      ]
     },
     "execution_count": 61,
     "metadata": {},
     "output_type": "execute_result"
    }
   ],
   "source": [
    "l1"
   ]
  },
  {
   "cell_type": "code",
   "execution_count": 62,
   "id": "7cfa6a5f",
   "metadata": {},
   "outputs": [],
   "source": [
    "l1.remove(3)"
   ]
  },
  {
   "cell_type": "code",
   "execution_count": 63,
   "id": "1be8374c",
   "metadata": {},
   "outputs": [
    {
     "data": {
      "text/plain": [
       "[5, 4, 5, 7, 8, 3, 3]"
      ]
     },
     "execution_count": 63,
     "metadata": {},
     "output_type": "execute_result"
    }
   ],
   "source": [
    "l1"
   ]
  },
  {
   "cell_type": "code",
   "execution_count": 64,
   "id": "7412b145",
   "metadata": {},
   "outputs": [
    {
     "name": "stdout",
     "output_type": "stream",
     "text": [
      "[5, 4, 5, 7, 8, 3, 3]\n"
     ]
    }
   ],
   "source": [
    "print(l1)"
   ]
  },
  {
   "cell_type": "code",
   "execution_count": 65,
   "id": "3b2c4e60",
   "metadata": {},
   "outputs": [],
   "source": [
    "l1.insert(2,8)"
   ]
  },
  {
   "cell_type": "code",
   "execution_count": 66,
   "id": "291fd8dc",
   "metadata": {},
   "outputs": [
    {
     "data": {
      "text/plain": [
       "[5, 4, 8, 5, 7, 8, 3, 3]"
      ]
     },
     "execution_count": 66,
     "metadata": {},
     "output_type": "execute_result"
    }
   ],
   "source": [
    "l1\n"
   ]
  },
  {
   "cell_type": "code",
   "execution_count": 67,
   "id": "7508921b",
   "metadata": {},
   "outputs": [],
   "source": [
    "l1.insert(-2,9)"
   ]
  },
  {
   "cell_type": "code",
   "execution_count": 68,
   "id": "1bf4be6a",
   "metadata": {},
   "outputs": [
    {
     "data": {
      "text/plain": [
       "[5, 4, 8, 5, 7, 8, 9, 3, 3]"
      ]
     },
     "execution_count": 68,
     "metadata": {},
     "output_type": "execute_result"
    }
   ],
   "source": [
    "l1"
   ]
  },
  {
   "cell_type": "code",
   "execution_count": 69,
   "id": "6e187117",
   "metadata": {},
   "outputs": [
    {
     "ename": "NameError",
     "evalue": "name 'sort' is not defined",
     "output_type": "error",
     "traceback": [
      "\u001b[1;31m---------------------------------------------------------------------------\u001b[0m",
      "\u001b[1;31mNameError\u001b[0m                                 Traceback (most recent call last)",
      "Input \u001b[1;32mIn [69]\u001b[0m, in \u001b[0;36m<cell line: 1>\u001b[1;34m()\u001b[0m\n\u001b[1;32m----> 1\u001b[0m l1\u001b[38;5;241m.\u001b[39minsert(\u001b[43msort\u001b[49m)\n",
      "\u001b[1;31mNameError\u001b[0m: name 'sort' is not defined"
     ]
    }
   ],
   "source": [
    "l1.insert(sort)"
   ]
  },
  {
   "cell_type": "code",
   "execution_count": 70,
   "id": "17af3ade",
   "metadata": {},
   "outputs": [],
   "source": [
    "l1.sort()"
   ]
  },
  {
   "cell_type": "code",
   "execution_count": 71,
   "id": "165849de",
   "metadata": {},
   "outputs": [
    {
     "data": {
      "text/plain": [
       "[3, 3, 4, 5, 5, 7, 8, 8, 9]"
      ]
     },
     "execution_count": 71,
     "metadata": {},
     "output_type": "execute_result"
    }
   ],
   "source": [
    "l1"
   ]
  },
  {
   "cell_type": "code",
   "execution_count": 72,
   "id": "e0fdbda8",
   "metadata": {},
   "outputs": [
    {
     "data": {
      "text/plain": [
       "[4,\n",
       " 2,\n",
       " 0,\n",
       " 'Vamshit',\n",
       " 'akshat',\n",
       " 'Manwhore',\n",
       " 6.9,\n",
       " False,\n",
       " 'harsha',\n",
       " 'vankershit',\n",
       " 'K',\n",
       " 'e',\n",
       " 'r',\n",
       " 'r',\n",
       " 's',\n",
       " 'h',\n",
       " 'i',\n",
       " 't',\n",
       " 5,\n",
       " 6,\n",
       " 7,\n",
       " True,\n",
       " 8.9,\n",
       " 'g',\n",
       " 'u',\n",
       " 'u',\n",
       " 'u']"
      ]
     },
     "execution_count": 72,
     "metadata": {},
     "output_type": "execute_result"
    }
   ],
   "source": [
    "l"
   ]
  },
  {
   "cell_type": "code",
   "execution_count": 73,
   "id": "6a21f6de",
   "metadata": {},
   "outputs": [],
   "source": [
    "l=[3,4,5,6,[2,4,\"Vamshit\",\"Manwhore\",\"AKshit\",78,9.0]]"
   ]
  },
  {
   "cell_type": "code",
   "execution_count": 74,
   "id": "f2e56908",
   "metadata": {},
   "outputs": [
    {
     "data": {
      "text/plain": [
       "[3, 4, 5, 6, [2, 4, 'Vamshit', 'Manwhore', 'AKshit', 78, 9.0]]"
      ]
     },
     "execution_count": 74,
     "metadata": {},
     "output_type": "execute_result"
    }
   ],
   "source": [
    "l"
   ]
  },
  {
   "cell_type": "code",
   "execution_count": 75,
   "id": "b9ecda0c",
   "metadata": {},
   "outputs": [
    {
     "name": "stderr",
     "output_type": "stream",
     "text": [
      "<>:1: SyntaxWarning: 'int' object is not subscriptable; perhaps you missed a comma?\n",
      "<>:1: SyntaxWarning: 'int' object is not subscriptable; perhaps you missed a comma?\n",
      "C:\\Users\\sheshank.babu\\AppData\\Local\\Temp\\ipykernel_16836\\1173412070.py:1: SyntaxWarning: 'int' object is not subscriptable; perhaps you missed a comma?\n",
      "  l[4[5]]\n",
      "C:\\Users\\sheshank.babu\\AppData\\Local\\Temp\\ipykernel_16836\\1173412070.py:1: SyntaxWarning: 'int' object is not subscriptable; perhaps you missed a comma?\n",
      "  l[4[5]]\n",
      "C:\\Users\\sheshank.babu\\AppData\\Local\\Temp\\ipykernel_16836\\1173412070.py:1: SyntaxWarning: 'int' object is not subscriptable; perhaps you missed a comma?\n",
      "  l[4[5]]\n",
      "C:\\Users\\sheshank.babu\\AppData\\Local\\Temp\\ipykernel_16836\\1173412070.py:1: SyntaxWarning: 'int' object is not subscriptable; perhaps you missed a comma?\n",
      "  l[4[5]]\n"
     ]
    },
    {
     "ename": "TypeError",
     "evalue": "'int' object is not subscriptable",
     "output_type": "error",
     "traceback": [
      "\u001b[1;31m---------------------------------------------------------------------------\u001b[0m",
      "\u001b[1;31mTypeError\u001b[0m                                 Traceback (most recent call last)",
      "Input \u001b[1;32mIn [75]\u001b[0m, in \u001b[0;36m<cell line: 1>\u001b[1;34m()\u001b[0m\n\u001b[1;32m----> 1\u001b[0m l[\u001b[38;5;241;43m4\u001b[39;49m\u001b[43m[\u001b[49m\u001b[38;5;241;43m5\u001b[39;49m\u001b[43m]\u001b[49m]\n",
      "\u001b[1;31mTypeError\u001b[0m: 'int' object is not subscriptable"
     ]
    }
   ],
   "source": [
    "l[4[5]]"
   ]
  },
  {
   "cell_type": "code",
   "execution_count": 76,
   "id": "b60b2ddc",
   "metadata": {},
   "outputs": [
    {
     "data": {
      "text/plain": [
       "[[2, 4, 'Vamshit', 'Manwhore', 'AKshit', 78, 9.0]]"
      ]
     },
     "execution_count": 76,
     "metadata": {},
     "output_type": "execute_result"
    }
   ],
   "source": [
    "l[4:5]"
   ]
  },
  {
   "cell_type": "code",
   "execution_count": 77,
   "id": "bc6d8177",
   "metadata": {},
   "outputs": [
    {
     "name": "stderr",
     "output_type": "stream",
     "text": [
      "<>:1: SyntaxWarning: 'int' object is not subscriptable; perhaps you missed a comma?\n",
      "<>:1: SyntaxWarning: 'int' object is not subscriptable; perhaps you missed a comma?\n",
      "C:\\Users\\sheshank.babu\\AppData\\Local\\Temp\\ipykernel_16836\\4211796746.py:1: SyntaxWarning: 'int' object is not subscriptable; perhaps you missed a comma?\n",
      "  l[4[4]]\n",
      "C:\\Users\\sheshank.babu\\AppData\\Local\\Temp\\ipykernel_16836\\4211796746.py:1: SyntaxWarning: 'int' object is not subscriptable; perhaps you missed a comma?\n",
      "  l[4[4]]\n",
      "C:\\Users\\sheshank.babu\\AppData\\Local\\Temp\\ipykernel_16836\\4211796746.py:1: SyntaxWarning: 'int' object is not subscriptable; perhaps you missed a comma?\n",
      "  l[4[4]]\n",
      "C:\\Users\\sheshank.babu\\AppData\\Local\\Temp\\ipykernel_16836\\4211796746.py:1: SyntaxWarning: 'int' object is not subscriptable; perhaps you missed a comma?\n",
      "  l[4[4]]\n"
     ]
    },
    {
     "ename": "TypeError",
     "evalue": "'int' object is not subscriptable",
     "output_type": "error",
     "traceback": [
      "\u001b[1;31m---------------------------------------------------------------------------\u001b[0m",
      "\u001b[1;31mTypeError\u001b[0m                                 Traceback (most recent call last)",
      "Input \u001b[1;32mIn [77]\u001b[0m, in \u001b[0;36m<cell line: 1>\u001b[1;34m()\u001b[0m\n\u001b[1;32m----> 1\u001b[0m l[\u001b[38;5;241;43m4\u001b[39;49m\u001b[43m[\u001b[49m\u001b[38;5;241;43m4\u001b[39;49m\u001b[43m]\u001b[49m]\n",
      "\u001b[1;31mTypeError\u001b[0m: 'int' object is not subscriptable"
     ]
    }
   ],
   "source": [
    "l[4[4]]"
   ]
  },
  {
   "cell_type": "code",
   "execution_count": 78,
   "id": "e2d26758",
   "metadata": {},
   "outputs": [
    {
     "data": {
      "text/plain": [
       "[2, 4, 'Vamshit', 'Manwhore', 'AKshit', 78, 9.0]"
      ]
     },
     "execution_count": 78,
     "metadata": {},
     "output_type": "execute_result"
    }
   ],
   "source": [
    "l[4]"
   ]
  },
  {
   "cell_type": "code",
   "execution_count": 79,
   "id": "d4ea84c1",
   "metadata": {},
   "outputs": [
    {
     "data": {
      "text/plain": [
       "[3, 4, 5, 6, [2, 4, 'Vamshit', 'Manwhore', 'AKshit', 78, 9.0]]"
      ]
     },
     "execution_count": 79,
     "metadata": {},
     "output_type": "execute_result"
    }
   ],
   "source": [
    "l"
   ]
  },
  {
   "cell_type": "code",
   "execution_count": 80,
   "id": "6fb85154",
   "metadata": {},
   "outputs": [
    {
     "ename": "TypeError",
     "evalue": "list indices must be integers or slices, not tuple",
     "output_type": "error",
     "traceback": [
      "\u001b[1;31m---------------------------------------------------------------------------\u001b[0m",
      "\u001b[1;31mTypeError\u001b[0m                                 Traceback (most recent call last)",
      "Input \u001b[1;32mIn [80]\u001b[0m, in \u001b[0;36m<cell line: 1>\u001b[1;34m()\u001b[0m\n\u001b[1;32m----> 1\u001b[0m \u001b[43ml\u001b[49m\u001b[43m[\u001b[49m\u001b[38;5;241;43m4\u001b[39;49m\u001b[43m,\u001b[49m\u001b[38;5;241;43m4\u001b[39;49m\u001b[43m]\u001b[49m\n",
      "\u001b[1;31mTypeError\u001b[0m: list indices must be integers or slices, not tuple"
     ]
    }
   ],
   "source": [
    "l[4,4]"
   ]
  },
  {
   "cell_type": "code",
   "execution_count": 81,
   "id": "f3765291",
   "metadata": {},
   "outputs": [
    {
     "data": {
      "text/plain": [
       "'AKshit'"
      ]
     },
     "execution_count": 81,
     "metadata": {},
     "output_type": "execute_result"
    }
   ],
   "source": [
    "l[4][4]"
   ]
  },
  {
   "cell_type": "code",
   "execution_count": 82,
   "id": "576a7cde",
   "metadata": {},
   "outputs": [],
   "source": [
    "t = ()"
   ]
  },
  {
   "cell_type": "code",
   "execution_count": 83,
   "id": "5df47642",
   "metadata": {},
   "outputs": [
    {
     "data": {
      "text/plain": [
       "tuple"
      ]
     },
     "execution_count": 83,
     "metadata": {},
     "output_type": "execute_result"
    }
   ],
   "source": [
    "type(t)"
   ]
  },
  {
   "cell_type": "code",
   "execution_count": 84,
   "id": "b83b3ace",
   "metadata": {},
   "outputs": [],
   "source": [
    "t = (3,6,7,8,\"Manwhore\",\"Vamshit\",4.6,True)"
   ]
  },
  {
   "cell_type": "code",
   "execution_count": 85,
   "id": "76980207",
   "metadata": {},
   "outputs": [
    {
     "data": {
      "text/plain": [
       "(3, 6, 7, 8, 'Manwhore', 'Vamshit', 4.6, True)"
      ]
     },
     "execution_count": 85,
     "metadata": {},
     "output_type": "execute_result"
    }
   ],
   "source": [
    "t"
   ]
  },
  {
   "cell_type": "code",
   "execution_count": 86,
   "id": "67cc8fcb",
   "metadata": {},
   "outputs": [
    {
     "data": {
      "text/plain": [
       "3"
      ]
     },
     "execution_count": 86,
     "metadata": {},
     "output_type": "execute_result"
    }
   ],
   "source": [
    "t[0\n",
    "]"
   ]
  },
  {
   "cell_type": "code",
   "execution_count": 87,
   "id": "0651253c",
   "metadata": {},
   "outputs": [
    {
     "data": {
      "text/plain": [
       "4.6"
      ]
     },
     "execution_count": 87,
     "metadata": {},
     "output_type": "execute_result"
    }
   ],
   "source": [
    "t[-2]"
   ]
  },
  {
   "cell_type": "code",
   "execution_count": 88,
   "id": "9a1432e9",
   "metadata": {},
   "outputs": [
    {
     "data": {
      "text/plain": [
       "(3, 6, 7)"
      ]
     },
     "execution_count": 88,
     "metadata": {},
     "output_type": "execute_result"
    }
   ],
   "source": [
    "t[0:3]"
   ]
  },
  {
   "cell_type": "code",
   "execution_count": 89,
   "id": "ff3511d9",
   "metadata": {},
   "outputs": [
    {
     "ename": "TypeError",
     "evalue": "'tuple' object does not support item assignment",
     "output_type": "error",
     "traceback": [
      "\u001b[1;31m---------------------------------------------------------------------------\u001b[0m",
      "\u001b[1;31mTypeError\u001b[0m                                 Traceback (most recent call last)",
      "Input \u001b[1;32mIn [89]\u001b[0m, in \u001b[0;36m<cell line: 1>\u001b[1;34m()\u001b[0m\n\u001b[1;32m----> 1\u001b[0m t[\u001b[38;5;241m2\u001b[39m] \u001b[38;5;241m=\u001b[39m \u001b[38;5;241m5\u001b[39m\n",
      "\u001b[1;31mTypeError\u001b[0m: 'tuple' object does not support item assignment"
     ]
    }
   ],
   "source": [
    "t[2] = 5"
   ]
  },
  {
   "cell_type": "code",
   "execution_count": 90,
   "id": "c5f74536",
   "metadata": {},
   "outputs": [
    {
     "data": {
      "text/plain": [
       "[3, 4, 5, 6, [2, 4, 'Vamshit', 'Manwhore', 'AKshit', 78, 9.0]]"
      ]
     },
     "execution_count": 90,
     "metadata": {},
     "output_type": "execute_result"
    }
   ],
   "source": [
    "l"
   ]
  },
  {
   "cell_type": "code",
   "execution_count": 91,
   "id": "dbddc3be",
   "metadata": {},
   "outputs": [],
   "source": [
    "l[2] = 5"
   ]
  },
  {
   "cell_type": "code",
   "execution_count": 92,
   "id": "a374b243",
   "metadata": {},
   "outputs": [
    {
     "data": {
      "text/plain": [
       "[3, 4, 5, 6, [2, 4, 'Vamshit', 'Manwhore', 'AKshit', 78, 9.0]]"
      ]
     },
     "execution_count": 92,
     "metadata": {},
     "output_type": "execute_result"
    }
   ],
   "source": [
    "l"
   ]
  },
  {
   "cell_type": "code",
   "execution_count": 93,
   "id": "5253d09f",
   "metadata": {},
   "outputs": [],
   "source": [
    "l[1]=7"
   ]
  },
  {
   "cell_type": "code",
   "execution_count": 94,
   "id": "a9f51c04",
   "metadata": {},
   "outputs": [
    {
     "data": {
      "text/plain": [
       "[3, 7, 5, 6, [2, 4, 'Vamshit', 'Manwhore', 'AKshit', 78, 9.0]]"
      ]
     },
     "execution_count": 94,
     "metadata": {},
     "output_type": "execute_result"
    }
   ],
   "source": [
    "l"
   ]
  },
  {
   "cell_type": "code",
   "execution_count": 95,
   "id": "ea47a8d4",
   "metadata": {},
   "outputs": [],
   "source": [
    "tl = (\"SaiPronay\",45,78,23,7.56,False)"
   ]
  },
  {
   "cell_type": "code",
   "execution_count": 96,
   "id": "e3d593c9",
   "metadata": {},
   "outputs": [
    {
     "data": {
      "text/plain": [
       "(3,\n",
       " 6,\n",
       " 7,\n",
       " 8,\n",
       " 'Manwhore',\n",
       " 'Vamshit',\n",
       " 4.6,\n",
       " True,\n",
       " 'SaiPronay',\n",
       " 45,\n",
       " 78,\n",
       " 23,\n",
       " 7.56,\n",
       " False)"
      ]
     },
     "execution_count": 96,
     "metadata": {},
     "output_type": "execute_result"
    }
   ],
   "source": [
    "t+tl"
   ]
  },
  {
   "cell_type": "code",
   "execution_count": 97,
   "id": "cf1dfe4f",
   "metadata": {},
   "outputs": [
    {
     "data": {
      "text/plain": [
       "[3, 7, 5, 6, [2, 4, 'Vamshit', 'Manwhore', 'AKshit', 78, 9.0]]"
      ]
     },
     "execution_count": 97,
     "metadata": {},
     "output_type": "execute_result"
    }
   ],
   "source": [
    "l"
   ]
  },
  {
   "cell_type": "code",
   "execution_count": 98,
   "id": "6bccb194",
   "metadata": {},
   "outputs": [
    {
     "data": {
      "text/plain": [
       "[3,\n",
       " 7,\n",
       " 5,\n",
       " 6,\n",
       " [2, 4, 'Vamshit', 'Manwhore', 'AKshit', 78, 9.0],\n",
       " 3,\n",
       " 3,\n",
       " 4,\n",
       " 5,\n",
       " 5,\n",
       " 7,\n",
       " 8,\n",
       " 8,\n",
       " 9]"
      ]
     },
     "execution_count": 98,
     "metadata": {},
     "output_type": "execute_result"
    }
   ],
   "source": [
    "l+l1"
   ]
  },
  {
   "cell_type": "code",
   "execution_count": 99,
   "id": "3b176a8b",
   "metadata": {},
   "outputs": [
    {
     "data": {
      "text/plain": [
       "1"
      ]
     },
     "execution_count": 99,
     "metadata": {},
     "output_type": "execute_result"
    }
   ],
   "source": [
    "t.count(8)"
   ]
  },
  {
   "cell_type": "code",
   "execution_count": 100,
   "id": "9c4bfe7c",
   "metadata": {},
   "outputs": [],
   "source": [
    "t = (3,6,7,8,'mawhore','vamshesh',4.6,True,8,8,8,8,)"
   ]
  },
  {
   "cell_type": "code",
   "execution_count": 101,
   "id": "98b3dbe1",
   "metadata": {},
   "outputs": [
    {
     "data": {
      "text/plain": [
       "5"
      ]
     },
     "execution_count": 101,
     "metadata": {},
     "output_type": "execute_result"
    }
   ],
   "source": [
    "t.count(8)"
   ]
  },
  {
   "cell_type": "code",
   "execution_count": 102,
   "id": "61e3d673",
   "metadata": {},
   "outputs": [
    {
     "data": {
      "text/plain": [
       "3"
      ]
     },
     "execution_count": 102,
     "metadata": {},
     "output_type": "execute_result"
    }
   ],
   "source": [
    "t.index(8)"
   ]
  },
  {
   "cell_type": "code",
   "execution_count": 103,
   "id": "4b85fef4",
   "metadata": {},
   "outputs": [
    {
     "data": {
      "text/plain": [
       "0"
      ]
     },
     "execution_count": 103,
     "metadata": {},
     "output_type": "execute_result"
    }
   ],
   "source": [
    "t.index(3)"
   ]
  },
  {
   "cell_type": "code",
   "execution_count": 104,
   "id": "50f5fdf4",
   "metadata": {},
   "outputs": [
    {
     "data": {
      "text/plain": [
       "(3, 6, 7, 8, 'mawhore', 'vamshesh', 4.6, True, 8, 8, 8, 8)"
      ]
     },
     "execution_count": 104,
     "metadata": {},
     "output_type": "execute_result"
    }
   ],
   "source": [
    "t"
   ]
  },
  {
   "cell_type": "code",
   "execution_count": 105,
   "id": "add4fcba",
   "metadata": {},
   "outputs": [],
   "source": [
    "t2 = ((2,4,5,3,3),23,234,1,13,14,\"Sjhesf\",True)"
   ]
  },
  {
   "cell_type": "code",
   "execution_count": 106,
   "id": "47cdc69e",
   "metadata": {},
   "outputs": [
    {
     "data": {
      "text/plain": [
       "((2, 4, 5, 3, 3), 23, 234, 1, 13, 14, 'Sjhesf', True)"
      ]
     },
     "execution_count": 106,
     "metadata": {},
     "output_type": "execute_result"
    }
   ],
   "source": [
    "t2"
   ]
  },
  {
   "cell_type": "code",
   "execution_count": 107,
   "id": "c1574670",
   "metadata": {},
   "outputs": [],
   "source": [
    "t3 = ([2,4,5,6,7],23,34,645,64,\"madas\",True)"
   ]
  },
  {
   "cell_type": "code",
   "execution_count": 108,
   "id": "81a80cec",
   "metadata": {},
   "outputs": [
    {
     "data": {
      "text/plain": [
       "(3, 6, 7, 8, 'mawhore', 'vamshesh', 4.6, True, 8, 8, 8, 8)"
      ]
     },
     "execution_count": 108,
     "metadata": {},
     "output_type": "execute_result"
    }
   ],
   "source": [
    "t"
   ]
  },
  {
   "cell_type": "code",
   "execution_count": 109,
   "id": "04db9d3c",
   "metadata": {},
   "outputs": [
    {
     "data": {
      "text/plain": [
       "([2, 4, 5, 6, 7], 23, 34, 645, 64, 'madas', True)"
      ]
     },
     "execution_count": 109,
     "metadata": {},
     "output_type": "execute_result"
    }
   ],
   "source": [
    "t3"
   ]
  },
  {
   "cell_type": "code",
   "execution_count": 110,
   "id": "6e600952",
   "metadata": {},
   "outputs": [
    {
     "data": {
      "text/plain": [
       "5"
      ]
     },
     "execution_count": 110,
     "metadata": {},
     "output_type": "execute_result"
    }
   ],
   "source": [
    "t3[0][2]"
   ]
  },
  {
   "cell_type": "code",
   "execution_count": 111,
   "id": "6c90da84",
   "metadata": {},
   "outputs": [],
   "source": [
    "d = {\"sadas\":\"asda\",\"asdad\":\"asdad\"}"
   ]
  },
  {
   "cell_type": "code",
   "execution_count": 112,
   "id": "322a4dc9",
   "metadata": {},
   "outputs": [
    {
     "data": {
      "text/plain": [
       "dict"
      ]
     },
     "execution_count": 112,
     "metadata": {},
     "output_type": "execute_result"
    }
   ],
   "source": [
    "type(d)"
   ]
  },
  {
   "cell_type": "code",
   "execution_count": null,
   "id": "4d90161b",
   "metadata": {},
   "outputs": [],
   "source": []
  }
 ],
 "metadata": {
  "kernelspec": {
   "display_name": "Python 3 (ipykernel)",
   "language": "python",
   "name": "python3"
  },
  "language_info": {
   "codemirror_mode": {
    "name": "ipython",
    "version": 3
   },
   "file_extension": ".py",
   "mimetype": "text/x-python",
   "name": "python",
   "nbconvert_exporter": "python",
   "pygments_lexer": "ipython3",
   "version": "3.9.12"
  }
 },
 "nbformat": 4,
 "nbformat_minor": 5
}
