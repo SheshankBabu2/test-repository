{
 "cells": [
  {
   "cell_type": "code",
   "execution_count": 7,
   "id": "4041ad6b",
   "metadata": {},
   "outputs": [
    {
     "name": "stdout",
     "output_type": "stream",
     "text": [
      "good stuff\n"
     ]
    }
   ],
   "source": [
    "print('good stuff')"
   ]
  },
  {
   "cell_type": "code",
   "execution_count": 8,
   "id": "f2b13e74",
   "metadata": {},
   "outputs": [
    {
     "ename": "SyntaxError",
     "evalue": "invalid syntax (1511120059.py, line 1)",
     "output_type": "error",
     "traceback": [
      "\u001b[1;36m  Input \u001b[1;32mIn [8]\u001b[1;36m\u001b[0m\n\u001b[1;33m    if(a=b)\u001b[0m\n\u001b[1;37m        ^\u001b[0m\n\u001b[1;31mSyntaxError\u001b[0m\u001b[1;31m:\u001b[0m invalid syntax\n"
     ]
    }
   ],
   "source": [
    "if(a=b)"
   ]
  },
  {
   "cell_type": "code",
   "execution_count": 9,
   "id": "a6e8d7bc",
   "metadata": {},
   "outputs": [
    {
     "ename": "SyntaxError",
     "evalue": "invalid syntax (2122476956.py, line 1)",
     "output_type": "error",
     "traceback": [
      "\u001b[1;36m  Input \u001b[1;32mIn [9]\u001b[1;36m\u001b[0m\n\u001b[1;33m    if(a>b)\u001b[0m\n\u001b[1;37m           ^\u001b[0m\n\u001b[1;31mSyntaxError\u001b[0m\u001b[1;31m:\u001b[0m invalid syntax\n"
     ]
    }
   ],
   "source": [
    "if(a>b)\n",
    "    print('seesh')"
   ]
  },
  {
   "cell_type": "code",
   "execution_count": 10,
   "id": "98b51562",
   "metadata": {},
   "outputs": [
    {
     "ename": "SyntaxError",
     "evalue": "invalid syntax (1825429607.py, line 1)",
     "output_type": "error",
     "traceback": [
      "\u001b[1;36m  Input \u001b[1;32mIn [10]\u001b[1;36m\u001b[0m\n\u001b[1;33m    if a=b:\u001b[0m\n\u001b[1;37m        ^\u001b[0m\n\u001b[1;31mSyntaxError\u001b[0m\u001b[1;31m:\u001b[0m invalid syntax\n"
     ]
    }
   ],
   "source": [
    "if a=b:\n",
    "    print('sheesh')"
   ]
  },
  {
   "cell_type": "code",
   "execution_count": 11,
   "id": "690d4e98",
   "metadata": {},
   "outputs": [
    {
     "ename": "NameError",
     "evalue": "name 'a' is not defined",
     "output_type": "error",
     "traceback": [
      "\u001b[1;31m---------------------------------------------------------------------------\u001b[0m",
      "\u001b[1;31mNameError\u001b[0m                                 Traceback (most recent call last)",
      "Input \u001b[1;32mIn [11]\u001b[0m, in \u001b[0;36m<cell line: 1>\u001b[1;34m()\u001b[0m\n\u001b[1;32m----> 1\u001b[0m \u001b[38;5;28;01mif\u001b[39;00m \u001b[43ma\u001b[49m\u001b[38;5;241m==\u001b[39mb:\n\u001b[0;32m      2\u001b[0m     \u001b[38;5;28mprint\u001b[39m(\u001b[38;5;124m'\u001b[39m\u001b[38;5;124maubfuoa\u001b[39m\u001b[38;5;124m'\u001b[39m)\n",
      "\u001b[1;31mNameError\u001b[0m: name 'a' is not defined"
     ]
    }
   ],
   "source": [
    "if a==b:\n",
    "    print('aubfuoa')"
   ]
  },
  {
   "cell_type": "code",
   "execution_count": 12,
   "id": "984085bf",
   "metadata": {},
   "outputs": [
    {
     "ename": "SyntaxError",
     "evalue": "invalid syntax (3690231293.py, line 3)",
     "output_type": "error",
     "traceback": [
      "\u001b[1;36m  Input \u001b[1;32mIn [12]\u001b[1;36m\u001b[0m\n\u001b[1;33m    if a=b:\u001b[0m\n\u001b[1;37m        ^\u001b[0m\n\u001b[1;31mSyntaxError\u001b[0m\u001b[1;31m:\u001b[0m invalid syntax\n"
     ]
    }
   ],
   "source": [
    "a=1\n",
    "b=1\n",
    "if a=b:\n",
    "    print('sheesh')"
   ]
  },
  {
   "cell_type": "code",
   "execution_count": 13,
   "id": "1e28215e",
   "metadata": {},
   "outputs": [
    {
     "name": "stdout",
     "output_type": "stream",
     "text": [
      "sheesh\n"
     ]
    }
   ],
   "source": [
    "a=1\n",
    "b=1\n",
    "if a==b:\n",
    "    print('sheesh')"
   ]
  },
  {
   "cell_type": "code",
   "execution_count": 22,
   "id": "12c63078",
   "metadata": {},
   "outputs": [],
   "source": [
    "s = \"this is My First Python programming class and i am learNING python string and its function\""
   ]
  },
  {
   "cell_type": "code",
   "execution_count": 23,
   "id": "e7c21441",
   "metadata": {},
   "outputs": [
    {
     "data": {
      "text/plain": [
       "''"
      ]
     },
     "execution_count": 23,
     "metadata": {},
     "output_type": "execute_result"
    }
   ],
   "source": [
    "s[300:0]"
   ]
  },
  {
   "cell_type": "code",
   "execution_count": 24,
   "id": "da625222",
   "metadata": {},
   "outputs": [
    {
     "data": {
      "text/plain": [
       "''"
      ]
     },
     "execution_count": 24,
     "metadata": {},
     "output_type": "execute_result"
    }
   ],
   "source": [
    "s[0:300:-1]"
   ]
  },
  {
   "cell_type": "code",
   "execution_count": 25,
   "id": "31c8909a",
   "metadata": {},
   "outputs": [
    {
     "data": {
      "text/plain": [
       "'noitcnuf sti dna gnirts nohtyp GNINrael ma i dna ssalc gnimmargorp nohtyP tsriF yM si sih'"
      ]
     },
     "execution_count": 25,
     "metadata": {},
     "output_type": "execute_result"
    }
   ],
   "source": [
    "s[300:0:-1]"
   ]
  },
  {
   "cell_type": "code",
   "execution_count": 26,
   "id": "9d566eb1",
   "metadata": {},
   "outputs": [
    {
     "ename": "ValueError",
     "evalue": "slice step cannot be zero",
     "output_type": "error",
     "traceback": [
      "\u001b[1;31m---------------------------------------------------------------------------\u001b[0m",
      "\u001b[1;31mValueError\u001b[0m                                Traceback (most recent call last)",
      "Input \u001b[1;32mIn [26]\u001b[0m, in \u001b[0;36m<cell line: 1>\u001b[1;34m()\u001b[0m\n\u001b[1;32m----> 1\u001b[0m \u001b[43ms\u001b[49m\u001b[43m[\u001b[49m\u001b[38;5;241;43m300\u001b[39;49m\u001b[43m:\u001b[49m\u001b[38;5;241;43m0\u001b[39;49m\u001b[43m:\u001b[49m\u001b[38;5;241;43m-\u001b[39;49m\u001b[38;5;241;43m0\u001b[39;49m\u001b[43m]\u001b[49m\n",
      "\u001b[1;31mValueError\u001b[0m: slice step cannot be zero"
     ]
    }
   ],
   "source": [
    "s[300:0:-0]"
   ]
  },
  {
   "cell_type": "code",
   "execution_count": 7,
   "id": "d302cb91",
   "metadata": {},
   "outputs": [
    {
     "data": {
      "text/plain": [
       "'this is My First Python programming class and i am learNING python string and its function'"
      ]
     },
     "execution_count": 7,
     "metadata": {},
     "output_type": "execute_result"
    }
   ],
   "source": [
    "s[0:300]"
   ]
  },
  {
   "cell_type": "code",
   "execution_count": 8,
   "id": "fec5cd9f",
   "metadata": {},
   "outputs": [
    {
     "data": {
      "text/plain": [
       "'this is My First Python programming class and i am learNING python string and its functio'"
      ]
     },
     "execution_count": 8,
     "metadata": {},
     "output_type": "execute_result"
    }
   ],
   "source": [
    "s[0:89]"
   ]
  },
  {
   "cell_type": "code",
   "execution_count": 9,
   "id": "4cfa7928",
   "metadata": {},
   "outputs": [
    {
     "data": {
      "text/plain": [
       "'this is My First Python programming class and i am learNING python string and its function'"
      ]
     },
     "execution_count": 9,
     "metadata": {},
     "output_type": "execute_result"
    }
   ],
   "source": [
    "s[0:90]"
   ]
  },
  {
   "cell_type": "code",
   "execution_count": 10,
   "id": "3b5a1202",
   "metadata": {},
   "outputs": [
    {
     "data": {
      "text/plain": [
       "''"
      ]
     },
     "execution_count": 10,
     "metadata": {},
     "output_type": "execute_result"
    }
   ],
   "source": [
    "s[90:0]"
   ]
  },
  {
   "cell_type": "code",
   "execution_count": 11,
   "id": "941b6b8f",
   "metadata": {},
   "outputs": [
    {
     "data": {
      "text/plain": [
       "''"
      ]
     },
     "execution_count": 11,
     "metadata": {},
     "output_type": "execute_result"
    }
   ],
   "source": [
    "s[-90:0]"
   ]
  },
  {
   "cell_type": "code",
   "execution_count": 12,
   "id": "0ac0222c",
   "metadata": {},
   "outputs": [
    {
     "data": {
      "text/plain": [
       "''"
      ]
     },
     "execution_count": 12,
     "metadata": {},
     "output_type": "execute_result"
    }
   ],
   "source": [
    "s[0:-90]"
   ]
  },
  {
   "cell_type": "code",
   "execution_count": 13,
   "id": "f7e51edd",
   "metadata": {},
   "outputs": [
    {
     "data": {
      "text/plain": [
       "''"
      ]
     },
     "execution_count": 13,
     "metadata": {},
     "output_type": "execute_result"
    }
   ],
   "source": [
    "s[-90:0:1]"
   ]
  },
  {
   "cell_type": "code",
   "execution_count": 14,
   "id": "d6d98235",
   "metadata": {},
   "outputs": [
    {
     "data": {
      "text/plain": [
       "'this is My First Python programming class and i am learNING python string and its functio'"
      ]
     },
     "execution_count": 14,
     "metadata": {},
     "output_type": "execute_result"
    }
   ],
   "source": [
    "s[-90:-1]"
   ]
  },
  {
   "cell_type": "code",
   "execution_count": 15,
   "id": "e1b1103a",
   "metadata": {},
   "outputs": [
    {
     "data": {
      "text/plain": [
       "'this is My First Python programming class and i am learNING python string and its functio'"
      ]
     },
     "execution_count": 15,
     "metadata": {},
     "output_type": "execute_result"
    }
   ],
   "source": [
    "s[-91:-1]"
   ]
  },
  {
   "cell_type": "code",
   "execution_count": 16,
   "id": "c2c6d8da",
   "metadata": {},
   "outputs": [
    {
     "ename": "SyntaxError",
     "evalue": "illegal target for annotation (1853742335.py, line 1)",
     "output_type": "error",
     "traceback": [
      "\u001b[1;36m  Input \u001b[1;32mIn [16]\u001b[1;36m\u001b[0m\n\u001b[1;33m    -90:0\u001b[0m\n\u001b[1;37m    ^\u001b[0m\n\u001b[1;31mSyntaxError\u001b[0m\u001b[1;31m:\u001b[0m illegal target for annotation\n"
     ]
    }
   ],
   "source": [
    "-90:0"
   ]
  },
  {
   "cell_type": "code",
   "execution_count": 17,
   "id": "540bc4e8",
   "metadata": {},
   "outputs": [
    {
     "data": {
      "text/plain": [
       "'this is My First Python programming class and i am learNING python string and its functio'"
      ]
     },
     "execution_count": 17,
     "metadata": {},
     "output_type": "execute_result"
    }
   ],
   "source": [
    "s[-90:-1:1]"
   ]
  },
  {
   "cell_type": "code",
   "execution_count": 18,
   "id": "60aa6206",
   "metadata": {},
   "outputs": [
    {
     "data": {
      "text/plain": [
       "''"
      ]
     },
     "execution_count": 18,
     "metadata": {},
     "output_type": "execute_result"
    }
   ],
   "source": [
    "s[-90:-1:-1]"
   ]
  },
  {
   "cell_type": "code",
   "execution_count": 19,
   "id": "910560bf",
   "metadata": {},
   "outputs": [
    {
     "data": {
      "text/plain": [
       "'ti sM is yhnpormigcasadia erIGpto tigadisfnto'"
      ]
     },
     "execution_count": 19,
     "metadata": {},
     "output_type": "execute_result"
    }
   ],
   "source": [
    "s[-90:-1:2]"
   ]
  },
  {
   "cell_type": "code",
   "execution_count": 20,
   "id": "dfdd4caa",
   "metadata": {},
   "outputs": [
    {
     "data": {
      "text/plain": [
       "''"
      ]
     },
     "execution_count": 20,
     "metadata": {},
     "output_type": "execute_result"
    }
   ],
   "source": [
    "s[-1:-90:1]"
   ]
  },
  {
   "cell_type": "code",
   "execution_count": 21,
   "id": "63314f1b",
   "metadata": {},
   "outputs": [
    {
     "data": {
      "text/plain": [
       "'noitcnuf sti dna gnirts nohtyp GNINrael ma i dna ssalc gnimmargorp nohtyP tsriF yM si sih'"
      ]
     },
     "execution_count": 21,
     "metadata": {},
     "output_type": "execute_result"
    }
   ],
   "source": [
    "s[-1:-90:-1]"
   ]
  },
  {
   "cell_type": "code",
   "execution_count": 21,
   "id": "81d48fbf",
   "metadata": {},
   "outputs": [
    {
     "data": {
      "text/plain": [
       "'noitcnuf sti dna gnirts nohtyp GNINrael ma i dna ssalc gnimmargorp nohtyP tsriF yM si siht'"
      ]
     },
     "execution_count": 21,
     "metadata": {},
     "output_type": "execute_result"
    }
   ],
   "source": [
    "s[-1:-91:-1]"
   ]
  },
  {
   "cell_type": "code",
   "execution_count": 22,
   "id": "a3a2fac7",
   "metadata": {},
   "outputs": [
    {
     "data": {
      "text/plain": [
       "''"
      ]
     },
     "execution_count": 22,
     "metadata": {},
     "output_type": "execute_result"
    }
   ],
   "source": [
    "s[-1:-300]"
   ]
  },
  {
   "cell_type": "code",
   "execution_count": 23,
   "id": "f9225a9a",
   "metadata": {},
   "outputs": [
    {
     "data": {
      "text/plain": [
       "'noitcnuf sti dna gnirts nohtyp GNINrael ma i dna ssalc gnimmargorp nohtyP tsriF yM si siht'"
      ]
     },
     "execution_count": 23,
     "metadata": {},
     "output_type": "execute_result"
    }
   ],
   "source": [
    "s[-1:-300:-1]"
   ]
  },
  {
   "cell_type": "code",
   "execution_count": 24,
   "id": "36a79d98",
   "metadata": {},
   "outputs": [
    {
     "data": {
      "text/plain": [
       "'noitcnuf sti dna gnirts nohtyp GNINrael ma i dna ssalc gnimmargorp nohtyP tsriF yM si siht'"
      ]
     },
     "execution_count": 24,
     "metadata": {},
     "output_type": "execute_result"
    }
   ],
   "source": [
    "s[::-1]"
   ]
  },
  {
   "cell_type": "code",
   "execution_count": 1,
   "id": "bd9001e5",
   "metadata": {},
   "outputs": [
    {
     "ename": "NameError",
     "evalue": "name 's' is not defined",
     "output_type": "error",
     "traceback": [
      "\u001b[1;31m---------------------------------------------------------------------------\u001b[0m",
      "\u001b[1;31mNameError\u001b[0m                                 Traceback (most recent call last)",
      "Input \u001b[1;32mIn [1]\u001b[0m, in \u001b[0;36m<cell line: 1>\u001b[1;34m()\u001b[0m\n\u001b[1;32m----> 1\u001b[0m \u001b[43ms\u001b[49m[\u001b[38;5;241m0\u001b[39m:\u001b[38;5;241m300\u001b[39m]\n",
      "\u001b[1;31mNameError\u001b[0m: name 's' is not defined"
     ]
    }
   ],
   "source": [
    "s[0:300]"
   ]
  },
  {
   "cell_type": "code",
   "execution_count": 1,
   "id": "72d5c0a0",
   "metadata": {},
   "outputs": [
    {
     "ename": "NameError",
     "evalue": "name 's' is not defined",
     "output_type": "error",
     "traceback": [
      "\u001b[1;31m---------------------------------------------------------------------------\u001b[0m",
      "\u001b[1;31mNameError\u001b[0m                                 Traceback (most recent call last)",
      "Input \u001b[1;32mIn [1]\u001b[0m, in \u001b[0;36m<cell line: 1>\u001b[1;34m()\u001b[0m\n\u001b[1;32m----> 1\u001b[0m \u001b[43ms\u001b[49m[\u001b[38;5;241m0\u001b[39m:\u001b[38;5;241m300\u001b[39m]\n",
      "\u001b[1;31mNameError\u001b[0m: name 's' is not defined"
     ]
    }
   ],
   "source": [
    "s[0:300]"
   ]
  },
  {
   "cell_type": "code",
   "execution_count": 27,
   "id": "1868434a",
   "metadata": {},
   "outputs": [
    {
     "data": {
      "text/plain": [
       "'this is My First Python programming class and i am learNING python string and its function'"
      ]
     },
     "execution_count": 27,
     "metadata": {},
     "output_type": "execute_result"
    }
   ],
   "source": [
    "s[0:300]"
   ]
  },
  {
   "cell_type": "code",
   "execution_count": 28,
   "id": "a099f432",
   "metadata": {},
   "outputs": [
    {
     "ename": "SyntaxError",
     "evalue": "invalid syntax (1892235115.py, line 1)",
     "output_type": "error",
     "traceback": [
      "\u001b[1;36m  Input \u001b[1;32mIn [28]\u001b[1;36m\u001b[0m\n\u001b[1;33m    s[300:0;-1]\u001b[0m\n\u001b[1;37m           ^\u001b[0m\n\u001b[1;31mSyntaxError\u001b[0m\u001b[1;31m:\u001b[0m invalid syntax\n"
     ]
    }
   ],
   "source": [
    "s[300:0;-1]"
   ]
  },
  {
   "cell_type": "code",
   "execution_count": 29,
   "id": "f77b44a9",
   "metadata": {},
   "outputs": [
    {
     "data": {
      "text/plain": [
       "'noitcnuf sti dna gnirts nohtyp GNINrael ma i dna ssalc gnimmargorp nohtyP tsriF yM si sih'"
      ]
     },
     "execution_count": 29,
     "metadata": {},
     "output_type": "execute_result"
    }
   ],
   "source": [
    "s[300:0:-1]"
   ]
  },
  {
   "cell_type": "code",
   "execution_count": 30,
   "id": "307febe9",
   "metadata": {},
   "outputs": [
    {
     "data": {
      "text/plain": [
       "'nicu t n nrsnhy NNalm  n sl nmagr otPtrFy ish'"
      ]
     },
     "execution_count": 30,
     "metadata": {},
     "output_type": "execute_result"
    }
   ],
   "source": [
    "s[300:0:-2]"
   ]
  },
  {
   "cell_type": "code",
   "execution_count": 31,
   "id": "ccb15247",
   "metadata": {},
   "outputs": [
    {
     "data": {
      "text/plain": [
       "'ntus antnt Ia  d a iao hPsFMii'"
      ]
     },
     "execution_count": 31,
     "metadata": {},
     "output_type": "execute_result"
    }
   ],
   "source": [
    "s[300:0:-3]"
   ]
  },
  {
   "cell_type": "code",
   "execution_count": 32,
   "id": "be5c5cf6",
   "metadata": {},
   "outputs": [
    {
     "data": {
      "text/plain": [
       "''"
      ]
     },
     "execution_count": 32,
     "metadata": {},
     "output_type": "execute_result"
    }
   ],
   "source": [
    "s[-1:-300:1]"
   ]
  },
  {
   "cell_type": "code",
   "execution_count": 33,
   "id": "04f6e811",
   "metadata": {},
   "outputs": [
    {
     "data": {
      "text/plain": [
       "'noitcnuf sti dna gnirts nohtyp GNINrael ma i dna ssalc gnimmargorp nohtyP tsriF yM si siht'"
      ]
     },
     "execution_count": 33,
     "metadata": {},
     "output_type": "execute_result"
    }
   ],
   "source": [
    "s[-1:-300:-1]"
   ]
  },
  {
   "cell_type": "code",
   "execution_count": 34,
   "id": "1790bcc3",
   "metadata": {},
   "outputs": [
    {
     "data": {
      "text/plain": [
       "''"
      ]
     },
     "execution_count": 34,
     "metadata": {},
     "output_type": "execute_result"
    }
   ],
   "source": [
    "s[-1:-300]"
   ]
  },
  {
   "cell_type": "code",
   "execution_count": 35,
   "id": "941a2220",
   "metadata": {},
   "outputs": [
    {
     "data": {
      "text/plain": [
       "'this is My First Python programming class and i am learNING python string and its functio'"
      ]
     },
     "execution_count": 35,
     "metadata": {},
     "output_type": "execute_result"
    }
   ],
   "source": [
    "s[-300:-1]"
   ]
  },
  {
   "cell_type": "code",
   "execution_count": 36,
   "id": "6480e826",
   "metadata": {},
   "outputs": [],
   "source": [
    "b=\"i am bharath\""
   ]
  },
  {
   "cell_type": "code",
   "execution_count": 37,
   "id": "8cb46d0f",
   "metadata": {},
   "outputs": [
    {
     "data": {
      "text/plain": [
       "str"
      ]
     },
     "execution_count": 37,
     "metadata": {},
     "output_type": "execute_result"
    }
   ],
   "source": [
    "type(b)"
   ]
  },
  {
   "cell_type": "code",
   "execution_count": 38,
   "id": "e35bae70",
   "metadata": {},
   "outputs": [
    {
     "data": {
      "text/plain": [
       "'i am bharath'"
      ]
     },
     "execution_count": 38,
     "metadata": {},
     "output_type": "execute_result"
    }
   ],
   "source": [
    "b[::]"
   ]
  },
  {
   "cell_type": "code",
   "execution_count": null,
   "id": "1aa5a90e",
   "metadata": {},
   "outputs": [],
   "source": [
    "b"
   ]
  }
 ],
 "metadata": {
  "kernelspec": {
   "display_name": "Python 3 (ipykernel)",
   "language": "python",
   "name": "python3"
  },
  "language_info": {
   "codemirror_mode": {
    "name": "ipython",
    "version": 3
   },
   "file_extension": ".py",
   "mimetype": "text/x-python",
   "name": "python",
   "nbconvert_exporter": "python",
   "pygments_lexer": "ipython3",
   "version": "3.9.12"
  }
 },
 "nbformat": 4,
 "nbformat_minor": 5
}
