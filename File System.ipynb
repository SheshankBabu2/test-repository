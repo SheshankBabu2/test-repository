{
 "cells": [
  {
   "cell_type": "markdown",
   "id": "346acbb0",
   "metadata": {},
   "source": [
    "# File System"
   ]
  },
  {
   "cell_type": "code",
   "execution_count": 1,
   "id": "107d12b8",
   "metadata": {},
   "outputs": [
    {
     "ename": "FileNotFoundError",
     "evalue": "[Errno 2] No such file or directory: 'regular.txt'",
     "output_type": "error",
     "traceback": [
      "\u001b[1;31m---------------------------------------------------------------------------\u001b[0m",
      "\u001b[1;31mFileNotFoundError\u001b[0m                         Traceback (most recent call last)",
      "Input \u001b[1;32mIn [1]\u001b[0m, in \u001b[0;36m<cell line: 1>\u001b[1;34m()\u001b[0m\n\u001b[1;32m----> 1\u001b[0m f \u001b[38;5;241m=\u001b[39m \u001b[38;5;28;43mopen\u001b[39;49m\u001b[43m(\u001b[49m\u001b[38;5;124;43m\"\u001b[39;49m\u001b[38;5;124;43mregular.txt\u001b[39;49m\u001b[38;5;124;43m\"\u001b[39;49m\u001b[43m)\u001b[49m\n",
      "\u001b[1;31mFileNotFoundError\u001b[0m: [Errno 2] No such file or directory: 'regular.txt'"
     ]
    }
   ],
   "source": [
    "f = open(\"regular.txt\")"
   ]
  },
  {
   "cell_type": "code",
   "execution_count": 2,
   "id": "183158a8",
   "metadata": {},
   "outputs": [],
   "source": [
    "f = open(\"regular.txt\",'w')"
   ]
  },
  {
   "cell_type": "code",
   "execution_count": 3,
   "id": "ee791d97",
   "metadata": {},
   "outputs": [
    {
     "data": {
      "text/plain": [
       "'C:\\\\Users\\\\sheshank.babu'"
      ]
     },
     "execution_count": 3,
     "metadata": {},
     "output_type": "execute_result"
    }
   ],
   "source": [
    "pwd"
   ]
  },
  {
   "cell_type": "code",
   "execution_count": 4,
   "id": "4db09b01",
   "metadata": {},
   "outputs": [
    {
     "data": {
      "text/plain": [
       "32"
      ]
     },
     "execution_count": 4,
     "metadata": {},
     "output_type": "execute_result"
    }
   ],
   "source": [
    "f.write(\"This is my first file operation \")"
   ]
  },
  {
   "cell_type": "code",
   "execution_count": 8,
   "id": "29cc51c0",
   "metadata": {},
   "outputs": [
    {
     "data": {
      "text/plain": [
       "<function TextIOWrapper.close()>"
      ]
     },
     "execution_count": 8,
     "metadata": {},
     "output_type": "execute_result"
    }
   ],
   "source": [
    "f.close #bleaa"
   ]
  },
  {
   "cell_type": "code",
   "execution_count": 6,
   "id": "8dbf14fd",
   "metadata": {},
   "outputs": [],
   "source": [
    "f.close()"
   ]
  },
  {
   "cell_type": "code",
   "execution_count": 1,
   "id": "12d3ebee",
   "metadata": {},
   "outputs": [],
   "source": [
    "l=[2,3,4,5,6]"
   ]
  },
  {
   "cell_type": "code",
   "execution_count": 5,
   "id": "54c9c3b5",
   "metadata": {},
   "outputs": [],
   "source": [
    "f1=open(\"regular1.txt\",'w')"
   ]
  },
  {
   "cell_type": "code",
   "execution_count": 6,
   "id": "5ca00411",
   "metadata": {},
   "outputs": [
    {
     "data": {
      "text/plain": [
       "15"
      ]
     },
     "execution_count": 6,
     "metadata": {},
     "output_type": "execute_result"
    }
   ],
   "source": [
    "f1.write(str(l))"
   ]
  },
  {
   "cell_type": "code",
   "execution_count": 4,
   "id": "9cd9b730",
   "metadata": {},
   "outputs": [
    {
     "ename": "UnsupportedOperation",
     "evalue": "not writable",
     "output_type": "error",
     "traceback": [
      "\u001b[1;31m---------------------------------------------------------------------------\u001b[0m",
      "\u001b[1;31mUnsupportedOperation\u001b[0m                      Traceback (most recent call last)",
      "Input \u001b[1;32mIn [4]\u001b[0m, in \u001b[0;36m<cell line: 1>\u001b[1;34m()\u001b[0m\n\u001b[1;32m----> 1\u001b[0m \u001b[43mf1\u001b[49m\u001b[38;5;241;43m.\u001b[39;49m\u001b[43mwrite\u001b[49m\u001b[43m(\u001b[49m\u001b[38;5;28;43mstr\u001b[39;49m\u001b[43m(\u001b[49m\u001b[43ml\u001b[49m\u001b[43m)\u001b[49m\u001b[43m)\u001b[49m\n",
      "\u001b[1;31mUnsupportedOperation\u001b[0m: not writable"
     ]
    }
   ],
   "source": [
    "f1.write(str(l))"
   ]
  },
  {
   "cell_type": "code",
   "execution_count": 8,
   "id": "08b1a04d",
   "metadata": {},
   "outputs": [],
   "source": [
    "f1.close()"
   ]
  },
  {
   "cell_type": "code",
   "execution_count": 9,
   "id": "83358fea",
   "metadata": {},
   "outputs": [],
   "source": [
    "f2 = open(\"regular.madhu\",'w')"
   ]
  },
  {
   "cell_type": "code",
   "execution_count": 10,
   "id": "b45d972a",
   "metadata": {},
   "outputs": [
    {
     "data": {
      "text/plain": [
       "16"
      ]
     },
     "execution_count": 10,
     "metadata": {},
     "output_type": "execute_result"
    }
   ],
   "source": [
    "f2.write(\"I Lub codin doin\")"
   ]
  },
  {
   "cell_type": "code",
   "execution_count": 11,
   "id": "29272b0b",
   "metadata": {},
   "outputs": [],
   "source": [
    "f2.close()"
   ]
  },
  {
   "cell_type": "code",
   "execution_count": 12,
   "id": "d7d5b5ca",
   "metadata": {},
   "outputs": [],
   "source": [
    "# 2nd method of create, write over the file"
   ]
  },
  {
   "cell_type": "code",
   "execution_count": 14,
   "id": "34c28eda",
   "metadata": {},
   "outputs": [
    {
     "name": "stdout",
     "output_type": "stream",
     "text": [
      "Overwriting regular3.txt\n"
     ]
    }
   ],
   "source": [
    "%%writefile regular3.txt\n",
    "This is my python program to write into a file in different way.\n",
    "This is my python program to write into a file in different way.\n",
    "This is my python program to write into a file in different way.\n",
    "This is my python program to write into a file in different way.\n",
    "This is my python program to write into a file in different way."
   ]
  },
  {
   "cell_type": "code",
   "execution_count": 18,
   "id": "4ed4a294",
   "metadata": {},
   "outputs": [],
   "source": [
    "f3 = open(\"regular3.txt\")"
   ]
  },
  {
   "cell_type": "code",
   "execution_count": 16,
   "id": "9a5f2673",
   "metadata": {},
   "outputs": [
    {
     "data": {
      "text/plain": [
       "<function TextIOWrapper.read(size=-1, /)>"
      ]
     },
     "execution_count": 16,
     "metadata": {},
     "output_type": "execute_result"
    }
   ],
   "source": [
    "f3.read"
   ]
  },
  {
   "cell_type": "code",
   "execution_count": 19,
   "id": "390618d2",
   "metadata": {},
   "outputs": [
    {
     "data": {
      "text/plain": [
       "'This is my python program to write into a file in different way.\\nThis is my python program to write into a file in different way.\\nThis is my python program to write into a file in different way.\\nThis is my python program to write into a file in different way.\\nThis is my python program to write into a file in different way.\\n'"
      ]
     },
     "execution_count": 19,
     "metadata": {},
     "output_type": "execute_result"
    }
   ],
   "source": [
    "f3.read()"
   ]
  },
  {
   "cell_type": "code",
   "execution_count": 20,
   "id": "6f38bbd4",
   "metadata": {},
   "outputs": [
    {
     "data": {
      "text/plain": [
       "''"
      ]
     },
     "execution_count": 20,
     "metadata": {},
     "output_type": "execute_result"
    }
   ],
   "source": [
    "f3.read()"
   ]
  },
  {
   "cell_type": "code",
   "execution_count": 24,
   "id": "27918eb2",
   "metadata": {},
   "outputs": [
    {
     "data": {
      "text/plain": [
       "0"
      ]
     },
     "execution_count": 24,
     "metadata": {},
     "output_type": "execute_result"
    }
   ],
   "source": [
    "f3.seek(0)"
   ]
  },
  {
   "cell_type": "code",
   "execution_count": 25,
   "id": "d758aed3",
   "metadata": {},
   "outputs": [
    {
     "data": {
      "text/plain": [
       "'This is my python program to write into a file in different way.\\nThis is my python program to write into a file in different way.\\nThis is my python program to write into a file in different way.\\nThis is my python program to write into a file in different way.\\nThis is my python program to write into a file in different way.\\n'"
      ]
     },
     "execution_count": 25,
     "metadata": {},
     "output_type": "execute_result"
    }
   ],
   "source": [
    "f3.read()"
   ]
  },
  {
   "cell_type": "code",
   "execution_count": 26,
   "id": "5d071bef",
   "metadata": {},
   "outputs": [
    {
     "data": {
      "text/plain": [
       "50"
      ]
     },
     "execution_count": 26,
     "metadata": {},
     "output_type": "execute_result"
    }
   ],
   "source": [
    "f3.seek(50)"
   ]
  },
  {
   "cell_type": "code",
   "execution_count": 27,
   "id": "499d349a",
   "metadata": {},
   "outputs": [
    {
     "data": {
      "text/plain": [
       "'different way.\\nThis is my python program to write into a file in different way.\\nThis is my python program to write into a file in different way.\\nThis is my python program to write into a file in different way.\\nThis is my python program to write into a file in different way.\\n'"
      ]
     },
     "execution_count": 27,
     "metadata": {},
     "output_type": "execute_result"
    }
   ],
   "source": [
    "f3.read()"
   ]
  },
  {
   "cell_type": "code",
   "execution_count": 28,
   "id": "b20e778d",
   "metadata": {},
   "outputs": [
    {
     "data": {
      "text/plain": [
       "330"
      ]
     },
     "execution_count": 28,
     "metadata": {},
     "output_type": "execute_result"
    }
   ],
   "source": [
    "f3.tell()"
   ]
  },
  {
   "cell_type": "code",
   "execution_count": 32,
   "id": "0657c4c4",
   "metadata": {},
   "outputs": [
    {
     "data": {
      "text/plain": [
       "5"
      ]
     },
     "execution_count": 32,
     "metadata": {},
     "output_type": "execute_result"
    }
   ],
   "source": [
    "f3.seek(5)"
   ]
  },
  {
   "cell_type": "code",
   "execution_count": 34,
   "id": "5af7e48f",
   "metadata": {},
   "outputs": [
    {
     "data": {
      "text/plain": [
       "5"
      ]
     },
     "execution_count": 34,
     "metadata": {},
     "output_type": "execute_result"
    }
   ],
   "source": [
    "f3.tell()"
   ]
  },
  {
   "cell_type": "code",
   "execution_count": 35,
   "id": "f656a401",
   "metadata": {},
   "outputs": [
    {
     "data": {
      "text/plain": [
       "'is my python program to write into a file in diffe'"
      ]
     },
     "execution_count": 35,
     "metadata": {},
     "output_type": "execute_result"
    }
   ],
   "source": [
    "f3.read(50)"
   ]
  },
  {
   "cell_type": "code",
   "execution_count": 36,
   "id": "c1d08ac2",
   "metadata": {},
   "outputs": [
    {
     "data": {
      "text/plain": [
       "55"
      ]
     },
     "execution_count": 36,
     "metadata": {},
     "output_type": "execute_result"
    }
   ],
   "source": [
    "f3.tell()"
   ]
  },
  {
   "cell_type": "code",
   "execution_count": 37,
   "id": "3650f4e9",
   "metadata": {},
   "outputs": [
    {
     "data": {
      "text/plain": [
       "5"
      ]
     },
     "execution_count": 37,
     "metadata": {},
     "output_type": "execute_result"
    }
   ],
   "source": [
    "f3.fileno()"
   ]
  },
  {
   "cell_type": "code",
   "execution_count": 38,
   "id": "d9d8ccd7",
   "metadata": {},
   "outputs": [],
   "source": [
    "f4 = open(\"regular4.txt\",'w')"
   ]
  },
  {
   "cell_type": "code",
   "execution_count": 39,
   "id": "dee3d7df",
   "metadata": {},
   "outputs": [
    {
     "data": {
      "text/plain": [
       "29"
      ]
     },
     "execution_count": 39,
     "metadata": {},
     "output_type": "execute_result"
    }
   ],
   "source": [
    "f4.write(\"saafasverwdaamdauduaijijvnvas\")"
   ]
  },
  {
   "cell_type": "code",
   "execution_count": 40,
   "id": "18f9b718",
   "metadata": {},
   "outputs": [],
   "source": [
    "f4.close()"
   ]
  },
  {
   "cell_type": "code",
   "execution_count": 48,
   "id": "471e620f",
   "metadata": {},
   "outputs": [],
   "source": [
    "f4= open(\"regular4.txt\",'a')"
   ]
  },
  {
   "cell_type": "code",
   "execution_count": 49,
   "id": "60a93f3a",
   "metadata": {},
   "outputs": [
    {
     "data": {
      "text/plain": [
       "16"
      ]
     },
     "execution_count": 49,
     "metadata": {},
     "output_type": "execute_result"
    }
   ],
   "source": [
    "f4.write(\"\\n we overwriting\")"
   ]
  },
  {
   "cell_type": "code",
   "execution_count": 50,
   "id": "30b93b85",
   "metadata": {},
   "outputs": [],
   "source": [
    "f4.close()"
   ]
  },
  {
   "cell_type": "code",
   "execution_count": null,
   "id": "ed024bc6",
   "metadata": {},
   "outputs": [],
   "source": []
  }
 ],
 "metadata": {
  "kernelspec": {
   "display_name": "Python 3 (ipykernel)",
   "language": "python",
   "name": "python3"
  },
  "language_info": {
   "codemirror_mode": {
    "name": "ipython",
    "version": 3
   },
   "file_extension": ".py",
   "mimetype": "text/x-python",
   "name": "python",
   "nbconvert_exporter": "python",
   "pygments_lexer": "ipython3",
   "version": "3.9.12"
  }
 },
 "nbformat": 4,
 "nbformat_minor": 5
}
