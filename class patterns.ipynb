{
 "cells": [
  {
   "cell_type": "code",
   "execution_count": 13,
   "id": "d99ac6f8",
   "metadata": {},
   "outputs": [
    {
     "name": "stdout",
     "output_type": "stream",
     "text": [
      "enter the no.: 5\n",
      "enter the name: shes\n",
      "                    shes      \n",
      "               shes      shes      \n",
      "          shes      shes      shes      \n",
      "     shes      shes      shes      shes      \n",
      "shes      shes      shes      shes      shes      \n"
     ]
    }
   ],
   "source": [
    "n = int(input(\"enter the no.: \"))\n",
    "name = input(\"enter the name: \")\n",
    "for i in range(n):   \n",
    "    for j in range(n-i-1):\n",
    "        print(\" \"*len(name),end =\" \")\n",
    "    for j in range(i+1):\n",
    "        print(name,\" \"*len(name), end =\" \")\n",
    "    print()"
   ]
  },
  {
   "cell_type": "code",
   "execution_count": null,
   "id": "13a01053",
   "metadata": {},
   "outputs": [],
   "source": [
    "n = int(input(\"Enter a rows :\"))\n",
    "name = input(\"Enter a name :\")\n",
    "for i in range(n):\n",
    "    for j in range(n-i-1):\n",
    "        print(\" \"*len(name),end = \" \")\n",
    "    for j in range(i+1):\n",
    "        print(name,end = \" \")\n",
    "\n",
    "    print()"
   ]
  },
  {
   "cell_type": "code",
   "execution_count": 4,
   "id": "a75fb61e",
   "metadata": {},
   "outputs": [
    {
     "ename": "SyntaxError",
     "evalue": "invalid syntax (1862192661.py, line 16)",
     "output_type": "error",
     "traceback": [
      "\u001b[1;36m  Input \u001b[1;32mIn [4]\u001b[1;36m\u001b[0m\n\u001b[1;33m    for j in range(i::-1):\u001b[0m\n\u001b[1;37m                    ^\u001b[0m\n\u001b[1;31mSyntaxError\u001b[0m\u001b[1;31m:\u001b[0m invalid syntax\n"
     ]
    }
   ],
   "source": [
    "n = int(input(\"Enter no. of rows :\"))\n",
    "name = input(\"Enter name :\")\n",
    "for i in range(n):\n",
    "    for j in range(n-i-1):\n",
    "        print(\" \"*len(name),end = \" \")\n",
    "    for j in range(i+1):\n",
    "        print(name,end=\" \")\n",
    "    for j in range(i):\n",
    "        print(name,end=\" \")\n",
    "    print()\n",
    "for i in range(n-1):\n",
    "    for j in range(i+1):\n",
    "        print(\" \"*len(name),end = \" \")\n",
    "    for j in range(n-i-1):\n",
    "        print(name,end= \" \")\n",
    "    for j in range(i):\n",
    "        print(name,end=\" \")\n",
    "    print()\n",
    "    \n",
    "    "
   ]
  },
  {
   "cell_type": "code",
   "execution_count": null,
   "id": "fad4907f",
   "metadata": {},
   "outputs": [],
   "source": []
  }
 ],
 "metadata": {
  "kernelspec": {
   "display_name": "Python 3 (ipykernel)",
   "language": "python",
   "name": "python3"
  },
  "language_info": {
   "codemirror_mode": {
    "name": "ipython",
    "version": 3
   },
   "file_extension": ".py",
   "mimetype": "text/x-python",
   "name": "python",
   "nbconvert_exporter": "python",
   "pygments_lexer": "ipython3",
   "version": "3.9.12"
  }
 },
 "nbformat": 4,
 "nbformat_minor": 5
}
