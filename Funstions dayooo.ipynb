{
 "cells": [
  {
   "cell_type": "code",
   "execution_count": 1,
   "id": "2a6e5fce",
   "metadata": {},
   "outputs": [],
   "source": [
    "def add():\n",
    "    print(\"This is our function\")"
   ]
  },
  {
   "cell_type": "raw",
   "id": "74204ffc",
   "metadata": {},
   "source": [
    "this no work because no call but is a function yes..."
   ]
  },
  {
   "cell_type": "code",
   "execution_count": 2,
   "id": "cb4fff7f",
   "metadata": {},
   "outputs": [],
   "source": [
    "a = 3"
   ]
  },
  {
   "cell_type": "code",
   "execution_count": 3,
   "id": "9d0ed438",
   "metadata": {},
   "outputs": [
    {
     "data": {
      "text/plain": [
       "3"
      ]
     },
     "execution_count": 3,
     "metadata": {},
     "output_type": "execute_result"
    }
   ],
   "source": [
    "a"
   ]
  },
  {
   "cell_type": "raw",
   "id": "95e7d5c3",
   "metadata": {},
   "source": [
    "here we define it save into ram and show when ask , similarly, it got saved and now..."
   ]
  },
  {
   "cell_type": "code",
   "execution_count": 4,
   "id": "8d5039db",
   "metadata": {},
   "outputs": [
    {
     "name": "stdout",
     "output_type": "stream",
     "text": [
      "This is our function\n"
     ]
    }
   ],
   "source": [
    "add()"
   ]
  },
  {
   "cell_type": "code",
   "execution_count": 5,
   "id": "b83ca490",
   "metadata": {},
   "outputs": [
    {
     "name": "stdout",
     "output_type": "stream",
     "text": [
      "This is our function\n"
     ]
    },
    {
     "ename": "TypeError",
     "evalue": "unsupported operand type(s) for +: 'NoneType' and 'str'",
     "output_type": "error",
     "traceback": [
      "\u001b[1;31m---------------------------------------------------------------------------\u001b[0m",
      "\u001b[1;31mTypeError\u001b[0m                                 Traceback (most recent call last)",
      "Input \u001b[1;32mIn [5]\u001b[0m, in \u001b[0;36m<cell line: 1>\u001b[1;34m()\u001b[0m\n\u001b[1;32m----> 1\u001b[0m \u001b[43madd\u001b[49m\u001b[43m(\u001b[49m\u001b[43m)\u001b[49m\u001b[38;5;241;43m+\u001b[39;49m\u001b[38;5;124;43m\"\u001b[39;49m\u001b[38;5;124;43mSohail\u001b[39;49m\u001b[38;5;124;43m\"\u001b[39;49m\n",
      "\u001b[1;31mTypeError\u001b[0m: unsupported operand type(s) for +: 'NoneType' and 'str'"
     ]
    }
   ],
   "source": [
    "add()+\"Sohail\""
   ]
  },
  {
   "cell_type": "code",
   "execution_count": 6,
   "id": "68d95f8b",
   "metadata": {},
   "outputs": [
    {
     "name": "stdout",
     "output_type": "stream",
     "text": [
      "This is our function\n"
     ]
    },
    {
     "data": {
      "text/plain": [
       "NoneType"
      ]
     },
     "execution_count": 6,
     "metadata": {},
     "output_type": "execute_result"
    }
   ],
   "source": [
    "type(add())"
   ]
  },
  {
   "cell_type": "code",
   "execution_count": 8,
   "id": "99dbb862",
   "metadata": {},
   "outputs": [
    {
     "name": "stdout",
     "output_type": "stream",
     "text": [
      "\n"
     ]
    },
    {
     "data": {
      "text/plain": [
       "NoneType"
      ]
     },
     "execution_count": 8,
     "metadata": {},
     "output_type": "execute_result"
    }
   ],
   "source": [
    "type(print())   # nonetype will come for those pre-build stuff perhaphs OwO"
   ]
  },
  {
   "cell_type": "code",
   "execution_count": 9,
   "id": "3e5680e4",
   "metadata": {},
   "outputs": [],
   "source": [
    "def add():\n",
    "    return \"This is our first function\""
   ]
  },
  {
   "cell_type": "code",
   "execution_count": 10,
   "id": "812764ed",
   "metadata": {},
   "outputs": [
    {
     "data": {
      "text/plain": [
       "'This is our first function'"
      ]
     },
     "execution_count": 10,
     "metadata": {},
     "output_type": "execute_result"
    }
   ],
   "source": [
    "add()"
   ]
  },
  {
   "cell_type": "code",
   "execution_count": 12,
   "id": "14363d50",
   "metadata": {},
   "outputs": [
    {
     "data": {
      "text/plain": [
       "'This is our first function ~~Baka~~ '"
      ]
     },
     "execution_count": 12,
     "metadata": {},
     "output_type": "execute_result"
    }
   ],
   "source": [
    "add()+\" ~~Baka~~ \""
   ]
  },
  {
   "cell_type": "code",
   "execution_count": 14,
   "id": "8608f2c5",
   "metadata": {},
   "outputs": [
    {
     "data": {
      "text/plain": [
       "str"
      ]
     },
     "execution_count": 14,
     "metadata": {},
     "output_type": "execute_result"
    }
   ],
   "source": [
    "type(add())"
   ]
  },
  {
   "cell_type": "code",
   "execution_count": null,
   "id": "b46e2299",
   "metadata": {},
   "outputs": [],
   "source": [
    "def test():\n",
    "    pass"
   ]
  },
  {
   "cell_type": "code",
   "execution_count": null,
   "id": "615719c6",
   "metadata": {},
   "outputs": [
    {
     "name": "stdout",
     "output_type": "stream",
     "text": [
      "1\n",
      "2\n",
      "3\n",
      "4\n"
     ]
    }
   ],
   "source": [
    "a = 1\n",
    "b = 10\n",
    "while a<b:\n",
    "    if a == 5:\n",
    "        continue          # by the way contiue with () comes an error so use without #\n",
    "    print(a)\n",
    "    a += 1"
   ]
  },
  {
   "cell_type": "code",
   "execution_count": 1,
   "id": "d1a1d72c",
   "metadata": {},
   "outputs": [],
   "source": [
    "def test1():\n",
    "    a = 1\n",
    "    b = 10\n",
    "    while a<b:\n",
    "        print(a)\n",
    "        a+=1"
   ]
  },
  {
   "cell_type": "code",
   "execution_count": 2,
   "id": "d98707e1",
   "metadata": {},
   "outputs": [
    {
     "ename": "NameError",
     "evalue": "name 'test' is not defined",
     "output_type": "error",
     "traceback": [
      "\u001b[1;31m---------------------------------------------------------------------------\u001b[0m",
      "\u001b[1;31mNameError\u001b[0m                                 Traceback (most recent call last)",
      "Input \u001b[1;32mIn [2]\u001b[0m, in \u001b[0;36m<cell line: 1>\u001b[1;34m()\u001b[0m\n\u001b[1;32m----> 1\u001b[0m \u001b[43mtest\u001b[49m()\n",
      "\u001b[1;31mNameError\u001b[0m: name 'test' is not defined"
     ]
    }
   ],
   "source": [
    "test()"
   ]
  },
  {
   "cell_type": "code",
   "execution_count": 3,
   "id": "2eae5d7e",
   "metadata": {},
   "outputs": [
    {
     "name": "stdout",
     "output_type": "stream",
     "text": [
      "1\n",
      "2\n",
      "3\n",
      "4\n",
      "5\n",
      "6\n",
      "7\n",
      "8\n",
      "9\n"
     ]
    }
   ],
   "source": [
    "test1()"
   ]
  },
  {
   "cell_type": "code",
   "execution_count": 1,
   "id": "48718556",
   "metadata": {},
   "outputs": [],
   "source": [
    "def test3(a,b):\n",
    "    while a<b:\n",
    "        print(a)\n",
    "        a+=1"
   ]
  },
  {
   "cell_type": "code",
   "execution_count": 2,
   "id": "179312c6",
   "metadata": {},
   "outputs": [
    {
     "name": "stdout",
     "output_type": "stream",
     "text": [
      "1\n",
      "2\n",
      "3\n",
      "4\n",
      "5\n",
      "6\n",
      "7\n",
      "8\n",
      "9\n",
      "10\n",
      "11\n",
      "12\n",
      "13\n",
      "14\n",
      "15\n",
      "16\n",
      "17\n",
      "18\n",
      "19\n"
     ]
    }
   ],
   "source": [
    "test3(1,20)"
   ]
  },
  {
   "cell_type": "code",
   "execution_count": 3,
   "id": "fe73ce6f",
   "metadata": {},
   "outputs": [],
   "source": [
    "def test4(a,b,c,d):\n",
    "    return a,b,c,d"
   ]
  },
  {
   "cell_type": "code",
   "execution_count": 4,
   "id": "8730be53",
   "metadata": {},
   "outputs": [
    {
     "data": {
      "text/plain": [
       "(43, 4, 5, 6)"
      ]
     },
     "execution_count": 4,
     "metadata": {},
     "output_type": "execute_result"
    }
   ],
   "source": [
    "test4(43,4,5,6)"
   ]
  },
  {
   "cell_type": "code",
   "execution_count": 5,
   "id": "b5bf7b32",
   "metadata": {},
   "outputs": [
    {
     "ename": "TypeError",
     "evalue": "test4() takes 4 positional arguments but 5 were given",
     "output_type": "error",
     "traceback": [
      "\u001b[1;31m---------------------------------------------------------------------------\u001b[0m",
      "\u001b[1;31mTypeError\u001b[0m                                 Traceback (most recent call last)",
      "Input \u001b[1;32mIn [5]\u001b[0m, in \u001b[0;36m<cell line: 1>\u001b[1;34m()\u001b[0m\n\u001b[1;32m----> 1\u001b[0m \u001b[43mtest4\u001b[49m\u001b[43m(\u001b[49m\u001b[38;5;241;43m3\u001b[39;49m\u001b[43m,\u001b[49m\u001b[38;5;241;43m3\u001b[39;49m\u001b[43m,\u001b[49m\u001b[38;5;241;43m4\u001b[39;49m\u001b[43m,\u001b[49m\u001b[38;5;241;43m5\u001b[39;49m\u001b[43m,\u001b[49m\u001b[38;5;241;43m6\u001b[39;49m\u001b[43m)\u001b[49m\n",
      "\u001b[1;31mTypeError\u001b[0m: test4() takes 4 positional arguments but 5 were given"
     ]
    }
   ],
   "source": [
    "test4(3,3,4,5,6)"
   ]
  },
  {
   "cell_type": "code",
   "execution_count": 9,
   "id": "730ee03c",
   "metadata": {},
   "outputs": [],
   "source": [
    "def test5(*a):\n",
    "    return a"
   ]
  },
  {
   "cell_type": "code",
   "execution_count": 10,
   "id": "c91257dd",
   "metadata": {},
   "outputs": [
    {
     "data": {
      "text/plain": [
       "(3, 4, 5, 3, 25, 1, 5, 7)"
      ]
     },
     "execution_count": 10,
     "metadata": {},
     "output_type": "execute_result"
    }
   ],
   "source": [
    "test5(3,4,5,3,25,1,5,7)"
   ]
  },
  {
   "cell_type": "code",
   "execution_count": 11,
   "id": "83d14562",
   "metadata": {},
   "outputs": [],
   "source": [
    "def test6(*a,*b,c,d,e):\n",
    "    return a,b,c,d,e"
   ]
  },
  {
   "cell_type": "code",
   "execution_count": 12,
   "id": "ba7fe79b",
   "metadata": {},
   "outputs": [
    {
     "ename": "TypeError",
     "evalue": "test6() missing 4 required keyword-only arguments: 'b', 'c', 'd', and 'e'",
     "output_type": "error",
     "traceback": [
      "\u001b[1;31m---------------------------------------------------------------------------\u001b[0m",
      "\u001b[1;31mTypeError\u001b[0m                                 Traceback (most recent call last)",
      "Input \u001b[1;32mIn [12]\u001b[0m, in \u001b[0;36m<cell line: 1>\u001b[1;34m()\u001b[0m\n\u001b[1;32m----> 1\u001b[0m \u001b[43mtest6\u001b[49m\u001b[43m(\u001b[49m\u001b[38;5;241;43m2\u001b[39;49m\u001b[43m,\u001b[49m\u001b[38;5;241;43m3\u001b[39;49m\u001b[43m,\u001b[49m\u001b[38;5;241;43m4\u001b[39;49m\u001b[43m,\u001b[49m\u001b[38;5;241;43m5\u001b[39;49m\u001b[43m,\u001b[49m\u001b[38;5;241;43m6\u001b[39;49m\u001b[43m,\u001b[49m\u001b[38;5;241;43m7\u001b[39;49m\u001b[43m,\u001b[49m\u001b[38;5;241;43m8\u001b[39;49m\u001b[43m,\u001b[49m\u001b[38;5;241;43m9\u001b[39;49m\u001b[43m,\u001b[49m\u001b[43m)\u001b[49m\n",
      "\u001b[1;31mTypeError\u001b[0m: test6() missing 4 required keyword-only arguments: 'b', 'c', 'd', and 'e'"
     ]
    }
   ],
   "source": [
    "test6(2,3,4,5,6,7,8,9,)"
   ]
  },
  {
   "cell_type": "code",
   "execution_count": 16,
   "id": "455eab76",
   "metadata": {},
   "outputs": [
    {
     "data": {
      "text/plain": [
       "((2, 23, 232, 3, 1, 3, 1, 3, 13213), 3, 5, 43, 6)"
      ]
     },
     "execution_count": 16,
     "metadata": {},
     "output_type": "execute_result"
    }
   ],
   "source": [
    "test6(2,23,232,3,1,3,1,3,13213,b=3,c=5,d=43,e=6)                         #Hence "
   ]
  },
  {
   "cell_type": "code",
   "execution_count": 17,
   "id": "9b62450c",
   "metadata": {},
   "outputs": [],
   "source": [
    "def test7(b,c,d,e,*a):\n",
    "    return b,c,d,e,a"
   ]
  },
  {
   "cell_type": "code",
   "execution_count": 18,
   "id": "3a86cdf6",
   "metadata": {},
   "outputs": [
    {
     "data": {
      "text/plain": [
       "(3, 3, 45, 6, (3, 3, 324, 42, 34, 234, 324))"
      ]
     },
     "execution_count": 18,
     "metadata": {},
     "output_type": "execute_result"
    }
   ],
   "source": [
    "test7(3,3,45,6,3,3,324,42,34,234,324)"
   ]
  },
  {
   "cell_type": "code",
   "execution_count": 20,
   "id": "1ac3c7c7",
   "metadata": {},
   "outputs": [
    {
     "ename": "SyntaxError",
     "evalue": "invalid syntax (482214780.py, line 1)",
     "output_type": "error",
     "traceback": [
      "\u001b[1;36m  Input \u001b[1;32mIn [20]\u001b[1;36m\u001b[0m\n\u001b[1;33m    def test8(*b,c,d,e,*a):\u001b[0m\n\u001b[1;37m                       ^\u001b[0m\n\u001b[1;31mSyntaxError\u001b[0m\u001b[1;31m:\u001b[0m invalid syntax\n"
     ]
    }
   ],
   "source": [
    "def test8(*b,c,d,e,*a):\n",
    "    return a,b,c,d,e            #coz one * is enough itseems"
   ]
  },
  {
   "cell_type": "code",
   "execution_count": 24,
   "id": "0ad5127b",
   "metadata": {},
   "outputs": [],
   "source": [
    "def add():\n",
    "    '''This function return string blablablaaa!'''  #this is used to write docstring which servers as note accessed by shift+tab\n",
    "    return \"this is not our first function anymore\""
   ]
  },
  {
   "cell_type": "code",
   "execution_count": 25,
   "id": "d480523d",
   "metadata": {},
   "outputs": [
    {
     "data": {
      "text/plain": [
       "'this is not our first function anymore'"
      ]
     },
     "execution_count": 25,
     "metadata": {},
     "output_type": "execute_result"
    }
   ],
   "source": [
    "add()"
   ]
  },
  {
   "cell_type": "code",
   "execution_count": 26,
   "id": "0fe77e48",
   "metadata": {},
   "outputs": [],
   "source": [
    "def test9(**a):\n",
    "    print(a)"
   ]
  },
  {
   "cell_type": "code",
   "execution_count": 27,
   "id": "16da2e2f",
   "metadata": {},
   "outputs": [
    {
     "name": "stdout",
     "output_type": "stream",
     "text": [
      "{'a': 3, 'b': 8, 'c': 78, 'd': 'Madhi'}\n"
     ]
    }
   ],
   "source": [
    "test9(a=3,b=8,c=78,d=\"Madhi\")"
   ]
  },
  {
   "cell_type": "raw",
   "id": "f5999a88",
   "metadata": {},
   "source": [
    "that makes it dict type"
   ]
  },
  {
   "cell_type": "code",
   "execution_count": 31,
   "id": "0c2cae37",
   "metadata": {},
   "outputs": [],
   "source": [
    "def t(*a):\n",
    "    print(a)"
   ]
  },
  {
   "cell_type": "code",
   "execution_count": 32,
   "id": "06b8839c",
   "metadata": {},
   "outputs": [
    {
     "name": "stdout",
     "output_type": "stream",
     "text": [
      "(2, 3, 4, 2, 'shesh')\n"
     ]
    }
   ],
   "source": [
    "t(2,3,4,2,\"shesh\")"
   ]
  },
  {
   "cell_type": "markdown",
   "id": "4a50529c",
   "metadata": {},
   "source": [
    "# 01-09-2022"
   ]
  },
  {
   "cell_type": "markdown",
   "id": "c825afc6",
   "metadata": {},
   "source": [
    "# File System"
   ]
  },
  {
   "cell_type": "code",
   "execution_count": null,
   "id": "e3e81f2f",
   "metadata": {},
   "outputs": [],
   "source": []
  }
 ],
 "metadata": {
  "kernelspec": {
   "display_name": "Python 3 (ipykernel)",
   "language": "python",
   "name": "python3"
  },
  "language_info": {
   "codemirror_mode": {
    "name": "ipython",
    "version": 3
   },
   "file_extension": ".py",
   "mimetype": "text/x-python",
   "name": "python",
   "nbconvert_exporter": "python",
   "pygments_lexer": "ipython3",
   "version": "3.9.12"
  }
 },
 "nbformat": 4,
 "nbformat_minor": 5
}
