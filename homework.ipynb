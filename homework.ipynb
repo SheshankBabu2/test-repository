{
 "cells": [
  {
   "cell_type": "code",
   "execution_count": null,
   "id": "485270b1",
   "metadata": {},
   "outputs": [],
   "source": [
    "sen = \"this is My First Python programming class and i am learNING python string and its function\"\n"
   ]
  },
  {
   "cell_type": "code",
   "execution_count": 2,
   "id": "a8437d6d",
   "metadata": {},
   "outputs": [
    {
     "data": {
      "text/plain": [
       "'tssyityopgmncsa alrNph rgni ni'"
      ]
     },
     "execution_count": 2,
     "metadata": {},
     "output_type": "execute_result"
    }
   ],
   "source": [
    "sen[0:300:3]"
   ]
  },
  {
   "cell_type": "code",
   "execution_count": 3,
   "id": "e8c73473",
   "metadata": {},
   "outputs": [
    {
     "data": {
      "text/plain": [
       "'t Mi hpricsdaeIpotgdsno'"
      ]
     },
     "execution_count": 3,
     "metadata": {},
     "output_type": "execute_result"
    }
   ],
   "source": [
    "sen[0:300:4]"
   ]
  },
  {
   "cell_type": "code",
   "execution_count": 4,
   "id": "b114db9c",
   "metadata": {},
   "outputs": [
    {
     "data": {
      "text/plain": [
       "'noitcnuf sti dna gnirts nohtyp GNINrael ma i dna ssalc gnimmargorp nohtyP tsriF yM si siht'"
      ]
     },
     "execution_count": 4,
     "metadata": {},
     "output_type": "execute_result"
    }
   ],
   "source": [
    "sen[::-1]"
   ]
  },
  {
   "cell_type": "markdown",
   "id": "9b6176e4",
   "metadata": {},
   "source": [
    "3. Compiler and interpretor both are used to convert high-level lauguage into machine level language.\n",
    "But, a complier reads and processess the whole of source code at once and an interpretor reads one part of input code at a time.\n",
    "examples of : Compiler - C, java ; Interpertor - Python, javaScript."
   ]
  },
  {
   "cell_type": "markdown",
   "id": "81b32031",
   "metadata": {},
   "source": [
    "4. Python is an interpreted language becouse it uses an interpretor to convert the high-level lauaguage code into a machine level byte code."
   ]
  },
  {
   "cell_type": "markdown",
   "id": "07a24d60",
   "metadata": {},
   "source": [
    "5. Python is used to process, and modify data using python libraries. It is much easier to learn compared to C due to less senstivity and complexity. It can be used for data management, game development, applications and software devlopment.."
   ]
  },
  {
   "cell_type": "code",
   "execution_count": 1,
   "id": "27c39d46",
   "metadata": {},
   "outputs": [
    {
     "name": "stdout",
     "output_type": "stream",
     "text": [
      "6000.0\n"
     ]
    }
   ],
   "source": [
    "q = 3\n",
    "p = 0.0005\n",
    "print(str(q / p))"
   ]
  },
  {
   "cell_type": "code",
   "execution_count": 3,
   "id": "420f7e73",
   "metadata": {},
   "outputs": [
    {
     "name": "stdout",
     "output_type": "stream",
     "text": [
      "122\n"
     ]
    }
   ],
   "source": [
    "\n",
    "\n",
    "list=[3, 23, 122, 16, 250]\n",
    "\n",
    "print(list[-3])"
   ]
  },
  {
   "cell_type": "code",
   "execution_count": 4,
   "id": "cbccd738",
   "metadata": {},
   "outputs": [
    {
     "name": "stdout",
     "output_type": "stream",
     "text": [
      "[{3, (1, 2)}, 4, 5, 6]\n"
     ]
    }
   ],
   "source": [
    "value1 = [{(1, 2), 3}, (4), 5]\n",
    "value2 = value1\n",
    "value2.append(6)\n",
    "print(value2)"
   ]
  },
  {
   "cell_type": "code",
   "execution_count": 5,
   "id": "0835d169",
   "metadata": {},
   "outputs": [
    {
     "name": "stdout",
     "output_type": "stream",
     "text": [
      "JEST\n"
     ]
    }
   ],
   "source": [
    "g = 'DEFT'\n",
    "g =\"JEST\"\n",
    "print(g)"
   ]
  },
  {
   "cell_type": "code",
   "execution_count": 6,
   "id": "bc48ff10",
   "metadata": {},
   "outputs": [
    {
     "name": "stdout",
     "output_type": "stream",
     "text": [
      "()\n"
     ]
    }
   ],
   "source": [
    "a=(1,2,3,4)\n",
    "\n",
    "print(a[1:-5]) "
   ]
  },
  {
   "cell_type": "code",
   "execution_count": 7,
   "id": "24e868cd",
   "metadata": {},
   "outputs": [
    {
     "ename": "SyntaxError",
     "evalue": "invalid syntax (3446255799.py, line 1)",
     "output_type": "error",
     "traceback": [
      "\u001b[1;36m  Input \u001b[1;32mIn [7]\u001b[1;36m\u001b[0m\n\u001b[1;33m    list = [56, 35,65,19 85, 105, 89, 35, 43]\u001b[0m\n\u001b[1;37m                         ^\u001b[0m\n\u001b[1;31mSyntaxError\u001b[0m\u001b[1;31m:\u001b[0m invalid syntax\n"
     ]
    }
   ],
   "source": [
    "list = [56, 35,65,19 85, 105, 89, 35, 43]\n",
    "\n",
    "print (\"Value available at index 3 =\")\n",
    "\n",
    "print (list[3])\n",
    "\n",
    "list[3] = 136\n",
    "\n",
    "print (\"Now value available at index 3 =\")\n",
    "\n",
    "print (list[3])\n",
    "\n"
   ]
  },
  {
   "cell_type": "code",
   "execution_count": 8,
   "id": "87904387",
   "metadata": {},
   "outputs": [
    {
     "ename": "NameError",
     "evalue": "name 'Point' is not defined",
     "output_type": "error",
     "traceback": [
      "\u001b[1;31m---------------------------------------------------------------------------\u001b[0m",
      "\u001b[1;31mNameError\u001b[0m                                 Traceback (most recent call last)",
      "Input \u001b[1;32mIn [8]\u001b[0m, in \u001b[0;36m<cell line: 1>\u001b[1;34m()\u001b[0m\n\u001b[1;32m----> 1\u001b[0m glist \u001b[38;5;241m=\u001b[39m [\u001b[38;5;241m5\u001b[39m, \u001b[38;5;241m6\u001b[39m, \u001b[38;5;124m\"\u001b[39m\u001b[38;5;124mHello\u001b[39m\u001b[38;5;124m\"\u001b[39m, \u001b[38;5;241m5.13\u001b[39m, \u001b[43mPoint\u001b[49m]\n\u001b[0;32m      2\u001b[0m \u001b[38;5;28mprint\u001b[39m (\u001b[38;5;28mlen\u001b[39m(glist))\n",
      "\u001b[1;31mNameError\u001b[0m: name 'Point' is not defined"
     ]
    }
   ],
   "source": [
    "glist = [5, 6, \"Hello\", 5.13, Point]\n",
    "print (len(glist))"
   ]
  },
  {
   "cell_type": "code",
   "execution_count": 9,
   "id": "be0bced2",
   "metadata": {},
   "outputs": [
    {
     "name": "stdout",
     "output_type": "stream",
     "text": [
      "5556666222228\n"
     ]
    }
   ],
   "source": [
    "print('{:=}'.format(5556666222228))"
   ]
  },
  {
   "cell_type": "code",
   "execution_count": 10,
   "id": "904f91da",
   "metadata": {},
   "outputs": [
    {
     "name": "stdout",
     "output_type": "stream",
     "text": [
      "#\n"
     ]
    }
   ],
   "source": [
    "a = 35\n",
    "\n",
    "obtained_value = format(a, 'c')\n",
    "\n",
    "print(obtained_value)"
   ]
  },
  {
   "cell_type": "code",
   "execution_count": 11,
   "id": "aa5061ab",
   "metadata": {},
   "outputs": [
    {
     "ename": "IndexError",
     "evalue": "tuple index out of range",
     "output_type": "error",
     "traceback": [
      "\u001b[1;31m---------------------------------------------------------------------------\u001b[0m",
      "\u001b[1;31mIndexError\u001b[0m                                Traceback (most recent call last)",
      "Input \u001b[1;32mIn [11]\u001b[0m, in \u001b[0;36m<cell line: 3>\u001b[1;34m()\u001b[0m\n\u001b[0;32m      3\u001b[0m \u001b[38;5;28;01mfor\u001b[39;00m y \u001b[38;5;129;01min\u001b[39;00m x:\n\u001b[0;32m      4\u001b[0m     \u001b[38;5;28;01mif\u001b[39;00m y\u001b[38;5;241m%\u001b[39m\u001b[38;5;241m5\u001b[39m\u001b[38;5;241m==\u001b[39m\u001b[38;5;241m0\u001b[39m:\n\u001b[1;32m----> 5\u001b[0m          s\u001b[38;5;241m=\u001b[39ms\u001b[38;5;241m+\u001b[39m\u001b[43mx\u001b[49m\u001b[43m[\u001b[49m\u001b[43my\u001b[49m\u001b[43m]\u001b[49m\n\u001b[0;32m      6\u001b[0m \u001b[38;5;28mprint\u001b[39m(s)\n",
      "\u001b[1;31mIndexError\u001b[0m: tuple index out of range"
     ]
    }
   ],
   "source": [
    "x=(60,35)\n",
    "s=0\n",
    "for y in x:\n",
    "    if y%5==0:\n",
    "         s=s+x[y]\n",
    "print(s)"
   ]
  },
  {
   "cell_type": "code",
   "execution_count": 12,
   "id": "22ea6b08",
   "metadata": {},
   "outputs": [
    {
     "name": "stdout",
     "output_type": "stream",
     "text": [
      "9\n"
     ]
    }
   ],
   "source": [
    "p=(3, 4, 5)\n",
    "print(max(p) + min(p) + p.count(5))"
   ]
  },
  {
   "cell_type": "code",
   "execution_count": null,
   "id": "656ea1c6",
   "metadata": {},
   "outputs": [],
   "source": []
  }
 ],
 "metadata": {
  "kernelspec": {
   "display_name": "Python 3 (ipykernel)",
   "language": "python",
   "name": "python3"
  },
  "language_info": {
   "codemirror_mode": {
    "name": "ipython",
    "version": 3
   },
   "file_extension": ".py",
   "mimetype": "text/x-python",
   "name": "python",
   "nbconvert_exporter": "python",
   "pygments_lexer": "ipython3",
   "version": "3.9.12"
  }
 },
 "nbformat": 4,
 "nbformat_minor": 5
}
